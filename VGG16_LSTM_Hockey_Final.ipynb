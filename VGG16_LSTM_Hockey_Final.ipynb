{
  "nbformat": 4,
  "nbformat_minor": 0,
  "metadata": {
    "colab": {
      "name": "VGG16_LSTM_Hockey_Final.ipynb",
      "provenance": [],
      "collapsed_sections": []
    },
    "kernelspec": {
      "name": "python3",
      "display_name": "Python 3"
    },
    "accelerator": "GPU"
  },
  "cells": [
    {
      "metadata": {
        "id": "-x-x2hhlOKkl"
      },
      "cell_type": "markdown",
      "source": [
        "# Violence Detection using VGG16 + LSTM neural networks "
      ]
    },
    {
      "metadata": {
        "id": "9fG4ju6NOSIv"
      },
      "cell_type": "markdown",
      "source": [
        "Author: Oai Vu \n",
        "\n",
        "Created: 03/01/2022\n",
        "\n",
        "Last modified: 13/01/2022\n",
        "\n",
        "Some parts of the notebook refer to the one by Pedro.F Rodenas at [Pedro.F Rodenas](https://github.com/pedrofrodenas). A million thanks to him!!!\n",
        "\n",
        "I have modified some Pedro's code and added new code to meet my needs"
      ]
    },
    {
      "metadata": {
        "id": "UVXa7uMnOlkp"
      },
      "cell_type": "markdown",
      "source": [
        "## Imports"
      ]
    },
    {
      "metadata": {
        "id": "oDfDnlliPMd-"
      },
      "cell_type": "code",
      "source": [
        "%matplotlib inline\n",
        "import cv2\n",
        "import os\n",
        "import numpy as np\n",
        "import keras\n",
        "import matplotlib.pyplot as plt\n",
        "from random import shuffle\n",
        "from keras.applications.vgg16 import VGG16\n",
        "from keras import backend as K\n",
        "from keras.models import Model, Sequential\n",
        "from keras.layers import Input\n",
        "from keras.layers import LSTM\n",
        "from keras.layers import Dense, Activation\n",
        "import sys\n",
        "import h5py\n",
        "import shutil\n",
        "import zipfile\n",
        "from sklearn.metrics import classification_report, confusion_matrix"
      ],
      "execution_count": 1,
      "outputs": []
    },
    {
      "cell_type": "markdown",
      "source": [
        "## Prepare the dataset"
      ],
      "metadata": {
        "id": "HAyUE-SigLrL"
      }
    },
    {
      "cell_type": "markdown",
      "source": [
        "### Download and split the dataset"
      ],
      "metadata": {
        "id": "OKOZ7W_nh86p"
      }
    },
    {
      "cell_type": "markdown",
      "source": [
        "Mount to Google Drive and download the datasets from there. There are three datasets available including Hockey_Fights, Movies_Fights and Violent_Flow. \n",
        "\n",
        "The datasets have already been splitted into training and testing sets of 80% and 20% of them, respectively. The exact video names used for training and testing of each dataset can be found in the .txt files"
      ],
      "metadata": {
        "id": "7gVdttEFgQ3z"
      }
    },
    {
      "cell_type": "code",
      "metadata": {
        "colab": {
          "base_uri": "https://localhost:8080/"
        },
        "id": "SYlK09WLWAwZ",
        "outputId": "6ac8dd9a-2746-4e43-f192-ad1678fbb1dc"
      },
      "source": [
        "# mount to google drive\n",
        "%cd ..\n",
        "from google.colab import drive\n",
        "drive.mount('/content/gdrive')"
      ],
      "execution_count": 2,
      "outputs": [
        {
          "output_type": "stream",
          "name": "stdout",
          "text": [
            "/\n",
            "Mounted at /content/gdrive\n"
          ]
        }
      ]
    },
    {
      "cell_type": "code",
      "metadata": {
        "id": "nuRUVQIJWWlJ"
      },
      "source": [
        "# this creates a symbolic link so that now the path /content/gdrive/My\\ Drive/ is equal to /mydrive\n",
        "# this is because some commands does not work due to the space of \"My Drive\"\n",
        "!ln -s /content/gdrive/My\\ Drive/ /mydrive"
      ],
      "execution_count": 5,
      "outputs": []
    },
    {
      "cell_type": "code",
      "metadata": {
        "id": "RibaaSd5bT0E"
      },
      "source": [
        "# copy the three splitted datasets Movies_Fights, Hockey_Fights and Violent_Flow into content/\n",
        "%cp /mydrive/AIFinalProject_Group1/SplittedDataset.zip content/"
      ],
      "execution_count": null,
      "outputs": []
    },
    {
      "cell_type": "code",
      "source": [
        "%ls\n",
        "%cd content/"
      ],
      "metadata": {
        "colab": {
          "base_uri": "https://localhost:8080/"
        },
        "id": "MMVnnG8WzsXj",
        "outputId": "95cba0a5-1de8-4c73-ae36-a0ae4e0556fd"
      },
      "execution_count": null,
      "outputs": [
        {
          "output_type": "stream",
          "name": "stdout",
          "text": [
            "\u001b[0m\u001b[01;34mbin\u001b[0m/      \u001b[01;34mdev\u001b[0m/   \u001b[01;34mlib32\u001b[0m/  \u001b[01;36mmydrive\u001b[0m@     \u001b[01;34mroot\u001b[0m/  \u001b[01;34msys\u001b[0m/                \u001b[01;34musr\u001b[0m/\n",
            "\u001b[01;34mboot\u001b[0m/     \u001b[01;34metc\u001b[0m/   \u001b[01;34mlib64\u001b[0m/  \u001b[01;34mopt\u001b[0m/         \u001b[01;34mrun\u001b[0m/   \u001b[01;34mtensorflow-1.15.2\u001b[0m/  \u001b[01;34mvar\u001b[0m/\n",
            "\u001b[01;34mcontent\u001b[0m/  \u001b[01;34mhome\u001b[0m/  \u001b[01;34mmedia\u001b[0m/  \u001b[01;34mproc\u001b[0m/        \u001b[01;34msbin\u001b[0m/  \u001b[30;42mtmp\u001b[0m/\n",
            "\u001b[01;34mdatalab\u001b[0m/  \u001b[01;34mlib\u001b[0m/   \u001b[01;34mmnt\u001b[0m/    \u001b[01;34mpython-apt\u001b[0m/  \u001b[01;34msrv\u001b[0m/   \u001b[01;34mtools\u001b[0m/\n",
            "/content\n"
          ]
        }
      ]
    },
    {
      "cell_type": "code",
      "source": [
        "!unzip SplittedDataset.zip\n",
        "!rm SplittedDataset.zip"
      ],
      "metadata": {
        "colab": {
          "base_uri": "https://localhost:8080/"
        },
        "id": "cAC4tVesc_16",
        "outputId": "fda1432a-9d25-4923-97b6-b88c2785f53d"
      },
      "execution_count": null,
      "outputs": [
        {
          "output_type": "stream",
          "name": "stdout",
          "text": [
            "Archive:  SplittedDataset.zip\n",
            " extracting: hockey_fights.zip       \n",
            " extracting: movies_fights.zip       \n",
            " extracting: violent_flow.zip        \n"
          ]
        }
      ]
    },
    {
      "cell_type": "markdown",
      "source": [
        "### Choose the dataset for use"
      ],
      "metadata": {
        "id": "5tB_xHKviCvi"
      }
    },
    {
      "cell_type": "code",
      "source": [
        "datasets_available = ['hockey_fights', 'movies_fights', 'violent_flow']\n",
        "dataset = datasets_available[0]\n",
        "print(\"Working on \" + dataset + \" dataset\")"
      ],
      "metadata": {
        "colab": {
          "base_uri": "https://localhost:8080/"
        },
        "id": "QER7g1FHiHmR",
        "outputId": "e772ae34-614c-44a6-ec63-b5abfc7fb60e"
      },
      "execution_count": null,
      "outputs": [
        {
          "output_type": "stream",
          "name": "stdout",
          "text": [
            "Working on hockey_fights dataset\n"
          ]
        }
      ]
    },
    {
      "cell_type": "markdown",
      "source": [
        "Define the directory to place the video dataset"
      ],
      "metadata": {
        "id": "aDgQiK9AjMmZ"
      }
    },
    {
      "cell_type": "code",
      "source": [
        "in_dir = 'data'\n",
        "if os.path.isdir(in_dir):\n",
        "  shutil.rmtree(in_dir)\n",
        "os.makedirs(in_dir)"
      ],
      "metadata": {
        "id": "5wk9qhHRjTZA"
      },
      "execution_count": null,
      "outputs": []
    },
    {
      "cell_type": "markdown",
      "source": [
        "Move the dataset to ``` data/```\n",
        "\n",
        "\n"
      ],
      "metadata": {
        "id": "ql_oaNHUpSFw"
      }
    },
    {
      "cell_type": "code",
      "source": [
        "dataset_path = 'data/'\n",
        "dataset_zip = dataset + '.zip'\n",
        "shutil.copy(dataset_zip, dataset_path)\n",
        "dataset_zip = os.path.join(dataset_path, dataset_zip)"
      ],
      "metadata": {
        "id": "riPPP1vqpXd_"
      },
      "execution_count": null,
      "outputs": []
    },
    {
      "cell_type": "code",
      "source": [
        "with zipfile.ZipFile(dataset_zip, 'r') as zip_ref:\n",
        "    zip_ref.extractall(dataset_path)\n",
        "os.remove(dataset_zip)"
      ],
      "metadata": {
        "id": "ddWj4gfSxEgz"
      },
      "execution_count": null,
      "outputs": []
    },
    {
      "cell_type": "markdown",
      "source": [
        "### Get the training and testing sets"
      ],
      "metadata": {
        "id": "0RA4zGBe6R0Z"
      }
    },
    {
      "cell_type": "code",
      "source": [
        "# Get the spliting informaton\n",
        "def getSplittingInfo(setPath):\n",
        "  openedFile = open(setPath, \"r\")\n",
        "  dataSet = openedFile.read().splitlines()\n",
        "  openedFile.close()\n",
        "  return dataSet\n"
      ],
      "metadata": {
        "id": "ZypAF6zUdRDD"
      },
      "execution_count": null,
      "outputs": []
    },
    {
      "cell_type": "code",
      "source": [
        "# Get the text files of splitting information\n",
        "# Make sure the current working directory is content/\n",
        "train_set_path = dataset_path + dataset + \"_train.txt\"\n",
        "test_set_path = dataset_path + dataset + \"_test.txt\"\n",
        "\n",
        "# Get the train and test sets of video name\n",
        "names_training = getSplittingInfo(train_set_path)\n",
        "names_test = getSplittingInfo(test_set_path)\n",
        "shuffle(names_training)\n",
        "shuffle(names_test)\n",
        "\n",
        "# Get the labels\n",
        "# [1 0] for violece and [0 1] for non-violence\n",
        "labels_training = []\n",
        "labels_test = []\n",
        "\n",
        "for video_name in names_training:\n",
        "  if \"NV\" in video_name:\n",
        "    labels_training.append([0, 1])\n",
        "  else:\n",
        "    labels_training.append([1, 0])\n",
        "\n",
        "for video_name in names_test:\n",
        "  if \"NV\" in video_name:\n",
        "    labels_test.append([0, 1])\n",
        "  else:\n",
        "    labels_test.append([1, 0])\n"
      ],
      "metadata": {
        "id": "jrKs67NJ6noC"
      },
      "execution_count": null,
      "outputs": []
    },
    {
      "cell_type": "code",
      "source": [
        "training_set = len(names_training)\n",
        "test_set = len(names_test)"
      ],
      "metadata": {
        "id": "XUNkAG6Cfq2R"
      },
      "execution_count": null,
      "outputs": []
    },
    {
      "metadata": {
        "id": "v6pf1l28PzIO"
      },
      "cell_type": "markdown",
      "source": [
        "## Helper Functions"
      ]
    },
    {
      "metadata": {
        "id": "WKnyJkf8PzxE"
      },
      "cell_type": "markdown",
      "source": [
        "Define the function ```print_progress``` to print the amount of videos processed"
      ]
    },
    {
      "metadata": {
        "id": "qnafWmS7P3CG"
      },
      "cell_type": "code",
      "source": [
        "def print_progress(count, max_count):\n",
        "    # Percentage completion.\n",
        "    pct_complete = count / max_count\n",
        "\n",
        "    # Status-message. Note the \\r which means the line should\n",
        "    # overwrite itself.\n",
        "    msg = \"\\r- Progress: {0:.1%}\".format(pct_complete)\n",
        "\n",
        "    # Print it.\n",
        "    sys.stdout.write(msg)\n",
        "    sys.stdout.flush()"
      ],
      "execution_count": null,
      "outputs": []
    },
    {
      "metadata": {
        "id": "UCZHrpJjRKky"
      },
      "cell_type": "markdown",
      "source": [
        "Copy some of the data-dimensions for convenience."
      ]
    },
    {
      "metadata": {
        "id": "SXTNEj6SRLZZ"
      },
      "cell_type": "code",
      "source": [
        "# Frame size  \n",
        "img_size = 224\n",
        "\n",
        "img_size_touple = (img_size, img_size)\n",
        "\n",
        "# Number of channels (RGB)\n",
        "num_channels = 3\n",
        "\n",
        "# Flat frame size\n",
        "img_size_flat = img_size * img_size * num_channels\n",
        "\n",
        "# Number of classes for classification (Violence-No Violence)\n",
        "num_classes = 2\n",
        "\n",
        "# Number of files to train\n",
        "_num_files_train = 1\n",
        "\n",
        "# Number of frames per video\n",
        "_images_per_file = 50\n",
        "\n",
        "# Number of frames per training set\n",
        "_num_images_train = _num_files_train * _images_per_file\n",
        "\n",
        "# Video extension\n",
        "video_exts = \".avi\""
      ],
      "execution_count": null,
      "outputs": []
    },
    {
      "metadata": {
        "id": "Wodq7EaSRSS8"
      },
      "cell_type": "markdown",
      "source": [
        "### Helper-function for getting video frames\n",
        "Function used to get 50 frames from a video file and convert the frame to a suitable format for the neural net."
      ]
    },
    {
      "metadata": {
        "id": "eu9c4a-3RVkO"
      },
      "cell_type": "code",
      "source": [
        "def get_frames(current_dir, file_name):\n",
        "    \n",
        "    in_file = os.path.join(current_dir, file_name)\n",
        "    \n",
        "    images = []\n",
        "    \n",
        "    vidcap = cv2.VideoCapture(in_file)\n",
        "    \n",
        "    success,image = vidcap.read()\n",
        "        \n",
        "    count = 0\n",
        "    \n",
        "    temp = np.empty(3)\n",
        "\n",
        "    while success and count < 50:\n",
        "                \n",
        "        RGB_img = cv2.cvtColor(image, cv2.COLOR_BGR2RGB)\n",
        "    \n",
        "        res = cv2.resize(RGB_img, dsize=(img_size, img_size),\n",
        "                                 interpolation=cv2.INTER_CUBIC)\n",
        "    \n",
        "        images.append(res)\n",
        "    \n",
        "        success,image = vidcap.read()\n",
        "    \n",
        "        count += 1\n",
        "        temp = res # store the last frame\n",
        "        \n",
        "    while count < 50:\n",
        "      images.append(temp)\n",
        "      count += 1\n",
        "    \n",
        "    resul = np.array(images)\n",
        "    \n",
        "    resul = (resul / 255.).astype(np.float16)\n",
        "        \n",
        "    return resul"
      ],
      "execution_count": null,
      "outputs": []
    },
    {
      "metadata": {
        "id": "t3KW2kfgReKn"
      },
      "cell_type": "markdown",
      "source": [
        "### Plot a video frame to see if data is correct"
      ]
    },
    {
      "metadata": {
        "id": "EqucOMsJRgqm"
      },
      "cell_type": "markdown",
      "source": [
        "Get a video"
      ]
    },
    {
      "metadata": {
        "id": "xUfZO-0BRj0f",
        "colab": {
          "base_uri": "https://localhost:8080/",
          "height": 35
        },
        "outputId": "9541e7a3-0f98-4754-ece9-812b55e891c9"
      },
      "cell_type": "code",
      "source": [
        "names_training[0]"
      ],
      "execution_count": null,
      "outputs": [
        {
          "output_type": "execute_result",
          "data": {
            "application/vnd.google.colaboratory.intrinsic+json": {
              "type": "string"
            },
            "text/plain": [
              "'NV (51).avi'"
            ]
          },
          "metadata": {},
          "execution_count": 17
        }
      ]
    },
    {
      "metadata": {
        "id": "EqBi8z6rRoMW"
      },
      "cell_type": "code",
      "source": [
        "frames = get_frames(in_dir, names_training[0])"
      ],
      "execution_count": null,
      "outputs": []
    },
    {
      "metadata": {
        "id": "vtgQEmI6RrmM"
      },
      "cell_type": "markdown",
      "source": [
        "Convert back the frames to uint8 pixel format to plot the frame"
      ]
    },
    {
      "metadata": {
        "id": "9ihSA_ogRsNU"
      },
      "cell_type": "code",
      "source": [
        "visible_frame = (frames*255).astype('uint8')"
      ],
      "execution_count": null,
      "outputs": []
    },
    {
      "metadata": {
        "id": "PM1kNhaHRvSv",
        "colab": {
          "base_uri": "https://localhost:8080/",
          "height": 286
        },
        "outputId": "d4218303-9654-482e-a80d-30d7bce7bdc5"
      },
      "cell_type": "code",
      "source": [
        "plt.imshow(visible_frame[3])"
      ],
      "execution_count": null,
      "outputs": [
        {
          "output_type": "execute_result",
          "data": {
            "text/plain": [
              "<matplotlib.image.AxesImage at 0x7fc080983b90>"
            ]
          },
          "metadata": {},
          "execution_count": 20
        },
        {
          "output_type": "display_data",
          "data": {
            "image/png": "[encoded data removed]",
            "text/plain": [
              "<Figure size 432x288 with 1 Axes>"
            ]
          },
          "metadata": {
            "needs_background": "light"
          }
        }
      ]
    },
    {
      "metadata": {
        "id": "_gVWtYPvR8n2",
        "colab": {
          "base_uri": "https://localhost:8080/",
          "height": 286
        },
        "outputId": "9e348f3b-7ba0-43b3-c91c-2af0c61b4c4b"
      },
      "cell_type": "code",
      "source": [
        "plt.imshow(visible_frame[49])"
      ],
      "execution_count": null,
      "outputs": [
        {
          "output_type": "execute_result",
          "data": {
            "text/plain": [
              "<matplotlib.image.AxesImage at 0x7fc0804e6f50>"
            ]
          },
          "metadata": {},
          "execution_count": 21
        },
        {
          "output_type": "display_data",
          "data": {
            "image/png": "[encoded data removed]",
            "text/plain": [
              "<Figure size 432x288 with 1 Axes>"
            ]
          },
          "metadata": {
            "needs_background": "light"
          }
        }
      ]
    },
    {
      "metadata": {
        "id": "sF1QieG5SANp"
      },
      "cell_type": "markdown",
      "source": [
        "## Pre-Trained Model: VGG16"
      ]
    },
    {
      "metadata": {
        "id": "0o6FA6slSA1l"
      },
      "cell_type": "markdown",
      "source": [
        "The following creates an instance of the pre-trained VGG16 model using the Keras API. This automatically downloads the required files if not available yet.\n",
        "The VGG16 model contains a convolutional part and a fully-connected (or dense) part which is used for classification. "
      ]
    },
    {
      "metadata": {
        "id": "MjRN6oE4SC81",
        "colab": {
          "base_uri": "https://localhost:8080/"
        },
        "outputId": "51b52a2d-5137-4d6a-caa0-1f01235da776"
      },
      "cell_type": "code",
      "source": [
        "image_model = VGG16(include_top=True, weights='imagenet')"
      ],
      "execution_count": null,
      "outputs": [
        {
          "output_type": "stream",
          "name": "stdout",
          "text": [
            "Downloading data from https://storage.googleapis.com/tensorflow/keras-applications/vgg16/vgg16_weights_tf_dim_ordering_tf_kernels.h5\n",
            "553467904/553467096 [==============================] - 8s 0us/step\n",
            "553476096/553467096 [==============================] - 8s 0us/step\n"
          ]
        }
      ]
    },
    {
      "metadata": {
        "id": "P_7z-y1mSPov"
      },
      "cell_type": "markdown",
      "source": [
        "Get the model summary"
      ]
    },
    {
      "metadata": {
        "id": "ud7OU0t7SQPi",
        "colab": {
          "base_uri": "https://localhost:8080/"
        },
        "outputId": "a57c0c67-36ca-4238-b1d1-76379b2dc998"
      },
      "cell_type": "code",
      "source": [
        "image_model.summary()\n",
        "\n"
      ],
      "execution_count": null,
      "outputs": [
        {
          "output_type": "stream",
          "name": "stdout",
          "text": [
            "Model: \"vgg16\"\n",
            "_________________________________________________________________\n",
            " Layer (type)                Output Shape              Param #   \n",
            "=================================================================\n",
            " input_1 (InputLayer)        [(None, 224, 224, 3)]     0         \n",
            "                                                                 \n",
            " block1_conv1 (Conv2D)       (None, 224, 224, 64)      1792      \n",
            "                                                                 \n",
            " block1_conv2 (Conv2D)       (None, 224, 224, 64)      36928     \n",
            "                                                                 \n",
            " block1_pool (MaxPooling2D)  (None, 112, 112, 64)      0         \n",
            "                                                                 \n",
            " block2_conv1 (Conv2D)       (None, 112, 112, 128)     73856     \n",
            "                                                                 \n",
            " block2_conv2 (Conv2D)       (None, 112, 112, 128)     147584    \n",
            "                                                                 \n",
            " block2_pool (MaxPooling2D)  (None, 56, 56, 128)       0         \n",
            "                                                                 \n",
            " block3_conv1 (Conv2D)       (None, 56, 56, 256)       295168    \n",
            "                                                                 \n",
            " block3_conv2 (Conv2D)       (None, 56, 56, 256)       590080    \n",
            "                                                                 \n",
            " block3_conv3 (Conv2D)       (None, 56, 56, 256)       590080    \n",
            "                                                                 \n",
            " block3_pool (MaxPooling2D)  (None, 28, 28, 256)       0         \n",
            "                                                                 \n",
            " block4_conv1 (Conv2D)       (None, 28, 28, 512)       1180160   \n",
            "                                                                 \n",
            " block4_conv2 (Conv2D)       (None, 28, 28, 512)       2359808   \n",
            "                                                                 \n",
            " block4_conv3 (Conv2D)       (None, 28, 28, 512)       2359808   \n",
            "                                                                 \n",
            " block4_pool (MaxPooling2D)  (None, 14, 14, 512)       0         \n",
            "                                                                 \n",
            " block5_conv1 (Conv2D)       (None, 14, 14, 512)       2359808   \n",
            "                                                                 \n",
            " block5_conv2 (Conv2D)       (None, 14, 14, 512)       2359808   \n",
            "                                                                 \n",
            " block5_conv3 (Conv2D)       (None, 14, 14, 512)       2359808   \n",
            "                                                                 \n",
            " block5_pool (MaxPooling2D)  (None, 7, 7, 512)         0         \n",
            "                                                                 \n",
            " flatten (Flatten)           (None, 25088)             0         \n",
            "                                                                 \n",
            " fc1 (Dense)                 (None, 4096)              102764544 \n",
            "                                                                 \n",
            " fc2 (Dense)                 (None, 4096)              16781312  \n",
            "                                                                 \n",
            " predictions (Dense)         (None, 1000)              4097000   \n",
            "                                                                 \n",
            "=================================================================\n",
            "Total params: 138,357,544\n",
            "Trainable params: 138,357,544\n",
            "Non-trainable params: 0\n",
            "_________________________________________________________________\n"
          ]
        }
      ]
    },
    {
      "metadata": {
        "id": "-NxnGLlDSTwr"
      },
      "cell_type": "markdown",
      "source": [
        "Get the input shape of the VGG16 model"
      ]
    },
    {
      "metadata": {
        "id": "9a0k89M5SUjP"
      },
      "cell_type": "code",
      "source": [
        "input_shape = image_model.layers[0].output_shape[1:3]\n"
      ],
      "execution_count": null,
      "outputs": []
    },
    {
      "metadata": {
        "id": "kMR6iqg4SaOl"
      },
      "cell_type": "markdown",
      "source": [
        "### VGG16 use for transfer learning"
      ]
    },
    {
      "cell_type": "markdown",
      "source": [
        "The following chart shows how the data flows when using the VGG16 model for Transfer Learning. First I input and process 50 video frames in batch with the VGG16 model. Just prior to the final classification layer of the VGG16 model, I save the so-called Transfer Values to a cache-file.\n"
      ],
      "metadata": {
        "id": "UDbYMpS-kjEX"
      }
    },
    {
      "metadata": {
        "id": "qFUDqTiBSa0H"
      },
      "cell_type": "markdown",
      "source": [
        "\n",
        "The reason for using a cache-file is that it takes a long time to process an image with the VGG16 model. If each image is processed more than once then I can save a lot of time by caching the transfer-values.\n",
        "\n",
        "When all the videos have been processed through the VGG16 model and the resulting transfer-values saved to a cache file, then I can use those transfer-values as the input to LSTM neural network. I will then train the second neural network using the classes from the violence dataset (Violence, No-Violence), so the network learns how to classify images based on the transfer-values from the VGG16 model."
      ]
    },
    {
      "metadata": {
        "id": "4YWFA-2tSdfB",
        "colab": {
          "base_uri": "https://localhost:8080/"
        },
        "outputId": "cf362c07-2f05-4ca5-8bc7-1fe945ebe15a"
      },
      "cell_type": "code",
      "source": [
        "# I will use the output of the layer prior to the final\n",
        "# classification-layer which is named fc2. This is a fully-connected (or dense) layer.\n",
        "transfer_layer = image_model.get_layer('fc2')\n",
        "\n",
        "image_model_transfer = Model(inputs=image_model.input,\n",
        "                             outputs=transfer_layer.output)\n",
        "\n",
        "transfer_values_size = K.int_shape(transfer_layer.output)[1]\n",
        "\n",
        "\n",
        "print(\"The input of the VGG16 net have dimensions:\",K.int_shape(image_model.input)[1:3])\n",
        "\n",
        "print(\"The output of the selecter layer of VGG16 net have dimensions: \", transfer_values_size)"
      ],
      "execution_count": null,
      "outputs": [
        {
          "output_type": "stream",
          "name": "stdout",
          "text": [
            "The input of the VGG16 net have dimensions: (224, 224)\n",
            "The output of the selecter layer of VGG16 net have dimensions:  4096\n"
          ]
        }
      ]
    },
    {
      "metadata": {
        "id": "1ghum6s2Si1n"
      },
      "cell_type": "markdown",
      "source": [
        "### Function to process 50 video frames through VGG16 and get transfer values"
      ]
    },
    {
      "metadata": {
        "id": "-AdxYAtiSlLF"
      },
      "cell_type": "code",
      "source": [
        "def get_transfer_values(current_dir, file_name):\n",
        "    \n",
        "    # Pre-allocate input-batch-array for images.\n",
        "    shape = (_images_per_file,) + img_size_touple + (3,)\n",
        "    \n",
        "    image_batch = np.zeros(shape=shape, dtype=np.float16)\n",
        "    \n",
        "    image_batch = get_frames(current_dir, file_name)\n",
        "      \n",
        "    # Pre-allocate output-array for transfer-values.\n",
        "    # Note that I use 16-bit floating-points to save memory.\n",
        "    shape = (_images_per_file, transfer_values_size)\n",
        "    transfer_values = np.zeros(shape=shape, dtype=np.float16)\n",
        "\n",
        "    transfer_values = \\\n",
        "            image_model_transfer.predict(image_batch)\n",
        "            \n",
        "    return transfer_values"
      ],
      "execution_count": null,
      "outputs": []
    },
    {
      "metadata": {
        "id": "HGdRIG6oSooG"
      },
      "cell_type": "markdown",
      "source": [
        "### Generator that process one video through VGG16 each function call"
      ]
    },
    {
      "metadata": {
        "id": "D2BvaY3eSpSH"
      },
      "cell_type": "code",
      "source": [
        "def proces_transfer(vid_names, in_dir, labels):\n",
        "    \n",
        "    count = 0\n",
        "    \n",
        "    tam = len(vid_names)\n",
        "    \n",
        "    # Pre-allocate input-batch-array for images.\n",
        "    shape = (_images_per_file,) + img_size_touple + (3,)\n",
        "    \n",
        "    while count<tam:\n",
        "        \n",
        "        video_name = vid_names[count]\n",
        "        \n",
        "        image_batch = np.zeros(shape=shape, dtype=np.float16)\n",
        "    \n",
        "        image_batch = get_frames(in_dir, video_name)\n",
        "        \n",
        "         # Note that I use 16-bit floating-points to save memory.\n",
        "        shape = (_images_per_file, transfer_values_size)\n",
        "        transfer_values = np.zeros(shape=shape, dtype=np.float16)\n",
        "        \n",
        "        transfer_values = \\\n",
        "            image_model_transfer.predict(image_batch)\n",
        "         \n",
        "        labels1 = labels[count]\n",
        "        \n",
        "        aux = np.ones([50,2])\n",
        "        \n",
        "        labelss = labels1*aux\n",
        "        \n",
        "        yield transfer_values, labelss\n",
        "        \n",
        "        count+=1"
      ],
      "execution_count": null,
      "outputs": []
    },
    {
      "metadata": {
        "id": "I-Cnv0fRSswF"
      },
      "cell_type": "markdown",
      "source": [
        "### Functions to save transfer values from VGG16 to later use\n",
        "I am going to define functions to get the transfer values from VGG16 with defined number of files. Then save the transfer values files used from training in one file and the ones uses for testing in another one. "
      ]
    },
    {
      "metadata": {
        "id": "tvU53ypSSvL0"
      },
      "cell_type": "code",
      "source": [
        "def make_files(n_files):\n",
        "    \n",
        "    gen = proces_transfer(names_training, in_dir, labels_training)\n",
        "\n",
        "    numer = 1\n",
        "\n",
        "    # Read the first chunk to get the column dtypes\n",
        "    chunk = next(gen)\n",
        "\n",
        "    row_count = chunk[0].shape[0]\n",
        "    row_count2 = chunk[1].shape[0]\n",
        "    \n",
        "    with h5py.File('prueba.h5', 'w') as f:\n",
        "    \n",
        "        # Initialize a resizable dataset to hold the output\n",
        "        maxshape = (None,) + chunk[0].shape[1:]\n",
        "        maxshape2 = (None,) + chunk[1].shape[1:]\n",
        "    \n",
        "    \n",
        "        dset = f.create_dataset('data', shape=chunk[0].shape, maxshape=maxshape,\n",
        "                                chunks=chunk[0].shape, dtype=chunk[0].dtype)\n",
        "    \n",
        "        dset2 = f.create_dataset('labels', shape=chunk[1].shape, maxshape=maxshape2,\n",
        "                                 chunks=chunk[1].shape, dtype=chunk[1].dtype)\n",
        "    \n",
        "         # Write the first chunk of rows\n",
        "        dset[:] = chunk[0]\n",
        "        dset2[:] = chunk[1]\n",
        "\n",
        "        for chunk in gen:\n",
        "            \n",
        "            if numer == n_files:\n",
        "            \n",
        "                break\n",
        "\n",
        "            # Resize the dataset to accommodate the next chunk of rows\n",
        "            dset.resize(row_count + chunk[0].shape[0], axis=0)\n",
        "            dset2.resize(row_count2 + chunk[1].shape[0], axis=0)\n",
        "\n",
        "            # Write the next chunk\n",
        "            dset[row_count:] = chunk[0]\n",
        "            dset2[row_count:] = chunk[1]\n",
        "\n",
        "            # Increment the row count\n",
        "            row_count += chunk[0].shape[0]\n",
        "            row_count2 += chunk[1].shape[0]\n",
        "            \n",
        "            print_progress(numer, n_files)\n",
        "        \n",
        "            numer += 1"
      ],
      "execution_count": null,
      "outputs": []
    },
    {
      "metadata": {
        "id": "8nK8uFExS0nX"
      },
      "cell_type": "code",
      "source": [
        "def make_files_test(n_files):\n",
        "    \n",
        "    gen = proces_transfer(names_test, in_dir, labels_test)\n",
        "\n",
        "    numer = 1\n",
        "\n",
        "    # Read the first chunk to get the column dtypes\n",
        "    chunk = next(gen)\n",
        "\n",
        "    row_count = chunk[0].shape[0]\n",
        "    row_count2 = chunk[1].shape[0]\n",
        "    \n",
        "    with h5py.File('pruebavalidation.h5', 'w') as f:\n",
        "    \n",
        "        # Initialize a resizable dataset to hold the output\n",
        "        maxshape = (None,) + chunk[0].shape[1:]\n",
        "        maxshape2 = (None,) + chunk[1].shape[1:]\n",
        "    \n",
        "    \n",
        "        dset = f.create_dataset('data', shape=chunk[0].shape, maxshape=maxshape,\n",
        "                                chunks=chunk[0].shape, dtype=chunk[0].dtype)\n",
        "    \n",
        "        dset2 = f.create_dataset('labels', shape=chunk[1].shape, maxshape=maxshape2,\n",
        "                                 chunks=chunk[1].shape, dtype=chunk[1].dtype)\n",
        "    \n",
        "         # Write the first chunk of rows\n",
        "        dset[:] = chunk[0]\n",
        "        dset2[:] = chunk[1]\n",
        "\n",
        "        for chunk in gen:\n",
        "            \n",
        "            if numer == n_files:\n",
        "            \n",
        "                break\n",
        "\n",
        "            # Resize the dataset to accommodate the next chunk of rows\n",
        "            dset.resize(row_count + chunk[0].shape[0], axis=0)\n",
        "            dset2.resize(row_count2 + chunk[1].shape[0], axis=0)\n",
        "\n",
        "            # Write the next chunk\n",
        "            dset[row_count:] = chunk[0]\n",
        "            dset2[row_count:] = chunk[1]\n",
        "\n",
        "            # Increment the row count\n",
        "            row_count += chunk[0].shape[0]\n",
        "            row_count2 += chunk[1].shape[0]\n",
        "            \n",
        "            print_progress(numer, n_files)\n",
        "        \n",
        "            numer += 1"
      ],
      "execution_count": null,
      "outputs": []
    },
    {
      "metadata": {
        "id": "xmiJi6G7TBnI"
      },
      "cell_type": "markdown",
      "source": [
        "Then I am going to process all video frames through VGG16 and save the transfer values."
      ]
    },
    {
      "metadata": {
        "id": "pyO9WP-6TER4",
        "colab": {
          "base_uri": "https://localhost:8080/"
        },
        "outputId": "1c8605b3-c674-48bf-b963-e0a0e0b78df6"
      },
      "cell_type": "code",
      "source": [
        "make_files(training_set)"
      ],
      "execution_count": null,
      "outputs": [
        {
          "output_type": "stream",
          "name": "stdout",
          "text": [
            "- Progress: 99.9%"
          ]
        }
      ]
    },
    {
      "metadata": {
        "id": "0ThoefXUXPrS",
        "colab": {
          "base_uri": "https://localhost:8080/"
        },
        "outputId": "fbfe767f-e498-44db-ae84-7657ef53134d"
      },
      "cell_type": "code",
      "source": [
        "make_files_test(test_set)"
      ],
      "execution_count": null,
      "outputs": [
        {
          "output_type": "stream",
          "name": "stdout",
          "text": [
            "- Progress: 99.5%"
          ]
        }
      ]
    },
    {
      "cell_type": "markdown",
      "source": [
        "Save the transfer values to Drive for later uses\n"
      ],
      "metadata": {
        "id": "baejztc3mYDs"
      }
    },
    {
      "cell_type": "code",
      "source": [
        "drive_save_path = os.path.join('/mydrive/AIFinalProject_Group1/', dataset)\n",
        "shutil.copy('prueba.h5', drive_save_path)\n",
        "shutil.copy('pruebavalidation.h5', drive_save_path)"
      ],
      "metadata": {
        "colab": {
          "base_uri": "https://localhost:8080/",
          "height": 35
        },
        "id": "ZfohhiWzmc5U",
        "outputId": "cdb27f41-7234-4018-93af-b32138bac776"
      },
      "execution_count": null,
      "outputs": [
        {
          "output_type": "execute_result",
          "data": {
            "application/vnd.google.colaboratory.intrinsic+json": {
              "type": "string"
            },
            "text/plain": [
              "'/mydrive/AIFinalProject_Group1/hockey_fights/pruebavalidation.h5'"
            ]
          },
          "metadata": {},
          "execution_count": 32
        }
      ]
    },
    {
      "metadata": {
        "id": "0s2imcRixMAr"
      },
      "cell_type": "markdown",
      "source": [
        "### Load the cached transfer values into memory\n",
        "I have already saved all the videos transfer values into disk. But I have to load those transfer values into memory in order to train the LSTM net. One question would be: why not process transfer values and load them into RAM memory? Yes is a more eficient way to train the second net. But if you have to train the LSTM in different ways in order to see which way gets the best accuracy, if you didn't save the transfer values into disk you would have to process the whole videos each training. It's very time consuming processing the videos through VGG16 net. \n"
      ]
    },
    {
      "metadata": {
        "id": "RnK1JL-izzeS"
      },
      "cell_type": "markdown",
      "source": [
        "In order to load the saved transfer values into RAM memory I am going to use this two functions:"
      ]
    },
    {
      "metadata": {
        "id": "Ez0blP2z0CsF"
      },
      "cell_type": "code",
      "source": [
        "def process_alldata_training():\n",
        "    \n",
        "    joint_transfer=[]\n",
        "    frames_num=50\n",
        "    count = 0\n",
        "    \n",
        "    with h5py.File('prueba.h5', 'r') as f:\n",
        "            \n",
        "        X_batch = f['data'][:]\n",
        "        y_batch = f['labels'][:]\n",
        "\n",
        "    for i in range(int(len(X_batch)/frames_num)):\n",
        "        inc = count+frames_num\n",
        "        joint_transfer.append([X_batch[count:inc],y_batch[count]])\n",
        "        count =inc\n",
        "        \n",
        "    data =[]\n",
        "    target=[]\n",
        "    \n",
        "    for i in joint_transfer:\n",
        "        data.append(i[0])\n",
        "        target.append(np.array(i[1]))\n",
        "        \n",
        "    return data, target"
      ],
      "execution_count": null,
      "outputs": []
    },
    {
      "metadata": {
        "id": "Dne2XaQ90MGk"
      },
      "cell_type": "code",
      "source": [
        "def process_alldata_test():\n",
        "    \n",
        "    joint_transfer=[]\n",
        "    frames_num=50\n",
        "    count = 0\n",
        "    \n",
        "    with h5py.File('pruebavalidation.h5', 'r') as f:\n",
        "            \n",
        "        X_batch = f['data'][:]\n",
        "        y_batch = f['labels'][:]\n",
        "\n",
        "    for i in range(int(len(X_batch)/frames_num)):\n",
        "        inc = count+frames_num\n",
        "        joint_transfer.append([X_batch[count:inc],y_batch[count]])\n",
        "        count =inc\n",
        "        \n",
        "    data =[]\n",
        "    target=[]\n",
        "    \n",
        "    for i in joint_transfer:\n",
        "        data.append(i[0])\n",
        "        target.append(np.array(i[1]))\n",
        "        \n",
        "    return data, target"
      ],
      "execution_count": 11,
      "outputs": []
    },
    {
      "metadata": {
        "id": "phyhoYc67VW8"
      },
      "cell_type": "code",
      "source": [
        "data, target = process_alldata_training()"
      ],
      "execution_count": null,
      "outputs": []
    },
    {
      "metadata": {
        "id": "dJpXHvEg7Xhc"
      },
      "cell_type": "code",
      "source": [
        "data_test, target_test = process_alldata_test()"
      ],
      "execution_count": 12,
      "outputs": []
    },
    {
      "metadata": {
        "id": "Qjaawyqj0arq"
      },
      "cell_type": "markdown",
      "source": [
        "##Recurrent Neural Network"
      ]
    },
    {
      "metadata": {
        "id": "dXFhxfzE0hGb"
      },
      "cell_type": "markdown",
      "source": [
        "The basic building block in a Recurrent Neural Network (RNN) is a Recurrent Unit (RU). There are many different variants of recurrent units such as the rather clunky LSTM (Long-Short-Term-Memory) and the somewhat simpler GRU (Gated Recurrent Unit) which I will use in this tutorial. Experiments in the literature suggest that the LSTM and GRU have roughly similar performance. Even simpler variants also exist and the literature suggests that they may perform even better than both LSTM and GRU, but they are not implemented in Keras which I will use in this tutorial.\n",
        "\n",
        "A recurrent neuron has an internal state that is being updated every time the unit receives a new input. This internal state serves as a kind of memory. However, it is not a traditional kind of computer memory which stores bits that are either on or off. Instead the recurrent unit stores floating-point values in its memory-state, which are read and written using matrix-operations so the operations are all differentiable. This means the memory-state can store arbitrary floating-point values (although typically limited between -1.0 and 1.0) and the network can be trained like a normal neural network using Gradient Descent.\n",
        "\n"
      ]
    },
    {
      "metadata": {
        "id": "BsIrL3ix4Edp"
      },
      "cell_type": "markdown",
      "source": [
        "### Define LSTM architecture"
      ]
    },
    {
      "metadata": {
        "id": "qFiSjMaC4Q1c"
      },
      "cell_type": "markdown",
      "source": [
        "When defining the LSTM architecture I have to take into account the dimensions of the transfer values. From each frame the VGG16 network obtains as output a vector of 4096 transfer values. From each video I am processing 50 frames so I will have 50 x 4096 values per video. The classification must be done taking into account the 50 frames of the video. If any of them detects violence, the video will be classified as violent.\n"
      ]
    },
    {
      "metadata": {
        "id": "HAgSUeVu58N_"
      },
      "cell_type": "markdown",
      "source": [
        "The first input dimension of LSTM neurons is the temporal dimension, in our case it is 50. The second is the size of the features vector (transfer values).\n"
      ]
    },
    {
      "metadata": {
        "id": "XWABZ91b6f7l"
      },
      "cell_type": "code",
      "source": [
        "chunk_size = 4096\n",
        "n_chunks = 50\n",
        "rnn_size = 512\n",
        "\n",
        "model = Sequential()\n",
        "model.add(LSTM(rnn_size, input_shape=(n_chunks, chunk_size)))\n",
        "model.add(Dense(1024))\n",
        "model.add(Activation('relu'))\n",
        "model.add(Dense(50))\n",
        "model.add(Activation('sigmoid'))\n",
        "model.add(Dense(2))\n",
        "model.add(Activation('softmax'))\n",
        "model.compile(loss='mean_squared_error', optimizer='adam',metrics=['Accuracy'])"
      ],
      "execution_count": null,
      "outputs": []
    },
    {
      "metadata": {
        "id": "bVonOPYW7F_b"
      },
      "cell_type": "markdown",
      "source": [
        "## Model training\n"
      ]
    },
    {
      "metadata": {
        "id": "iRZlW4ZV_ygS",
        "colab": {
          "base_uri": "https://localhost:8080/"
        },
        "outputId": "65052e30-3b0b-4a06-9122-1f57166f0090"
      },
      "cell_type": "code",
      "source": [
        "epoch = 200\n",
        "batchS = 500\n",
        "\n",
        "history = model.fit(np.array(data[0:750]), np.array(target[0:750]), epochs=epoch,\n",
        "                    validation_data=(np.array(data[750:]), np.array(target[750:])), \n",
        "                    batch_size=batchS, verbose=2)"
      ],
      "execution_count": null,
      "outputs": [
        {
          "output_type": "stream",
          "name": "stdout",
          "text": [
            "Epoch 1/200\n",
            "2/2 - 4s - loss: 0.3402 - Accuracy: 0.4920 - val_loss: 0.3198 - val_Accuracy: 0.4600 - 4s/epoch - 2s/step\n",
            "Epoch 2/200\n",
            "2/2 - 1s - loss: 0.2923 - Accuracy: 0.4787 - val_loss: 0.2531 - val_Accuracy: 0.5400 - 797ms/epoch - 398ms/step\n",
            "Epoch 3/200\n",
            "2/2 - 1s - loss: 0.2597 - Accuracy: 0.4973 - val_loss: 0.2517 - val_Accuracy: 0.4600 - 855ms/epoch - 428ms/step\n",
            "Epoch 4/200\n",
            "2/2 - 1s - loss: 0.2492 - Accuracy: 0.5027 - val_loss: 0.2582 - val_Accuracy: 0.4600 - 838ms/epoch - 419ms/step\n",
            "Epoch 5/200\n",
            "2/2 - 1s - loss: 0.2511 - Accuracy: 0.5027 - val_loss: 0.2460 - val_Accuracy: 0.9200 - 878ms/epoch - 439ms/step\n",
            "Epoch 6/200\n",
            "2/2 - 1s - loss: 0.2458 - Accuracy: 0.7813 - val_loss: 0.2423 - val_Accuracy: 0.5400 - 871ms/epoch - 435ms/step\n",
            "Epoch 7/200\n",
            "2/2 - 1s - loss: 0.2479 - Accuracy: 0.4973 - val_loss: 0.2387 - val_Accuracy: 0.5400 - 814ms/epoch - 407ms/step\n",
            "Epoch 8/200\n",
            "2/2 - 1s - loss: 0.2411 - Accuracy: 0.5133 - val_loss: 0.2404 - val_Accuracy: 0.4600 - 806ms/epoch - 403ms/step\n",
            "Epoch 9/200\n",
            "2/2 - 1s - loss: 0.2371 - Accuracy: 0.5360 - val_loss: 0.2286 - val_Accuracy: 0.8800 - 800ms/epoch - 400ms/step\n",
            "Epoch 10/200\n",
            "2/2 - 1s - loss: 0.2274 - Accuracy: 0.8733 - val_loss: 0.2119 - val_Accuracy: 0.9400 - 821ms/epoch - 411ms/step\n",
            "Epoch 11/200\n",
            "2/2 - 1s - loss: 0.2129 - Accuracy: 0.8800 - val_loss: 0.1905 - val_Accuracy: 0.9200 - 820ms/epoch - 410ms/step\n",
            "Epoch 12/200\n",
            "2/2 - 1s - loss: 0.1905 - Accuracy: 0.8880 - val_loss: 0.1600 - val_Accuracy: 0.9400 - 808ms/epoch - 404ms/step\n",
            "Epoch 13/200\n",
            "2/2 - 1s - loss: 0.1624 - Accuracy: 0.9000 - val_loss: 0.1244 - val_Accuracy: 0.9600 - 775ms/epoch - 388ms/step\n",
            "Epoch 14/200\n",
            "2/2 - 1s - loss: 0.1357 - Accuracy: 0.8853 - val_loss: 0.0961 - val_Accuracy: 0.9600 - 774ms/epoch - 387ms/step\n",
            "Epoch 15/200\n",
            "2/2 - 1s - loss: 0.1078 - Accuracy: 0.8933 - val_loss: 0.0934 - val_Accuracy: 0.8800 - 767ms/epoch - 383ms/step\n",
            "Epoch 16/200\n",
            "2/2 - 1s - loss: 0.0934 - Accuracy: 0.8920 - val_loss: 0.0614 - val_Accuracy: 0.9600 - 792ms/epoch - 396ms/step\n",
            "Epoch 17/200\n",
            "2/2 - 1s - loss: 0.0912 - Accuracy: 0.8987 - val_loss: 0.0556 - val_Accuracy: 0.9600 - 723ms/epoch - 361ms/step\n",
            "Epoch 18/200\n",
            "2/2 - 1s - loss: 0.0844 - Accuracy: 0.8920 - val_loss: 0.0738 - val_Accuracy: 0.9000 - 785ms/epoch - 392ms/step\n",
            "Epoch 19/200\n",
            "2/2 - 1s - loss: 0.0802 - Accuracy: 0.8987 - val_loss: 0.0536 - val_Accuracy: 0.9400 - 775ms/epoch - 387ms/step\n",
            "Epoch 20/200\n",
            "2/2 - 1s - loss: 0.0782 - Accuracy: 0.9080 - val_loss: 0.0509 - val_Accuracy: 0.9600 - 787ms/epoch - 393ms/step\n",
            "Epoch 21/200\n",
            "2/2 - 1s - loss: 0.0748 - Accuracy: 0.9120 - val_loss: 0.0926 - val_Accuracy: 0.8800 - 780ms/epoch - 390ms/step\n",
            "Epoch 22/200\n",
            "2/2 - 1s - loss: 0.0824 - Accuracy: 0.8987 - val_loss: 0.0438 - val_Accuracy: 0.9600 - 818ms/epoch - 409ms/step\n",
            "Epoch 23/200\n",
            "2/2 - 1s - loss: 0.0811 - Accuracy: 0.8960 - val_loss: 0.0785 - val_Accuracy: 0.9000 - 781ms/epoch - 391ms/step\n",
            "Epoch 24/200\n",
            "2/2 - 1s - loss: 0.0800 - Accuracy: 0.9027 - val_loss: 0.0452 - val_Accuracy: 0.9600 - 747ms/epoch - 374ms/step\n",
            "Epoch 25/200\n",
            "2/2 - 1s - loss: 0.0798 - Accuracy: 0.9027 - val_loss: 0.0446 - val_Accuracy: 0.9600 - 788ms/epoch - 394ms/step\n",
            "Epoch 26/200\n",
            "2/2 - 1s - loss: 0.0746 - Accuracy: 0.9080 - val_loss: 0.1075 - val_Accuracy: 0.8400 - 779ms/epoch - 390ms/step\n",
            "Epoch 27/200\n",
            "2/2 - 1s - loss: 0.0840 - Accuracy: 0.9000 - val_loss: 0.0426 - val_Accuracy: 0.9600 - 773ms/epoch - 386ms/step\n",
            "Epoch 28/200\n",
            "2/2 - 1s - loss: 0.0845 - Accuracy: 0.8893 - val_loss: 0.0513 - val_Accuracy: 0.9400 - 784ms/epoch - 392ms/step\n",
            "Epoch 29/200\n",
            "2/2 - 1s - loss: 0.0846 - Accuracy: 0.8987 - val_loss: 0.0630 - val_Accuracy: 0.9200 - 786ms/epoch - 393ms/step\n",
            "Epoch 30/200\n",
            "2/2 - 1s - loss: 0.0730 - Accuracy: 0.9093 - val_loss: 0.0437 - val_Accuracy: 0.9600 - 776ms/epoch - 388ms/step\n",
            "Epoch 31/200\n",
            "2/2 - 1s - loss: 0.0837 - Accuracy: 0.8920 - val_loss: 0.0551 - val_Accuracy: 0.9400 - 776ms/epoch - 388ms/step\n",
            "Epoch 32/200\n",
            "2/2 - 1s - loss: 0.0751 - Accuracy: 0.9093 - val_loss: 0.0727 - val_Accuracy: 0.9200 - 781ms/epoch - 391ms/step\n",
            "Epoch 33/200\n",
            "2/2 - 1s - loss: 0.0740 - Accuracy: 0.9120 - val_loss: 0.0428 - val_Accuracy: 0.9600 - 786ms/epoch - 393ms/step\n",
            "Epoch 34/200\n",
            "2/2 - 1s - loss: 0.0754 - Accuracy: 0.9067 - val_loss: 0.0491 - val_Accuracy: 0.9600 - 782ms/epoch - 391ms/step\n",
            "Epoch 35/200\n",
            "2/2 - 1s - loss: 0.0693 - Accuracy: 0.9187 - val_loss: 0.0721 - val_Accuracy: 0.9200 - 809ms/epoch - 405ms/step\n",
            "Epoch 36/200\n",
            "2/2 - 1s - loss: 0.0706 - Accuracy: 0.9173 - val_loss: 0.0437 - val_Accuracy: 0.9600 - 782ms/epoch - 391ms/step\n",
            "Epoch 37/200\n",
            "2/2 - 1s - loss: 0.0720 - Accuracy: 0.9147 - val_loss: 0.0438 - val_Accuracy: 0.9600 - 767ms/epoch - 383ms/step\n",
            "Epoch 38/200\n",
            "2/2 - 1s - loss: 0.0692 - Accuracy: 0.9187 - val_loss: 0.0722 - val_Accuracy: 0.9000 - 780ms/epoch - 390ms/step\n",
            "Epoch 39/200\n",
            "2/2 - 1s - loss: 0.0723 - Accuracy: 0.9133 - val_loss: 0.0506 - val_Accuracy: 0.9600 - 769ms/epoch - 385ms/step\n",
            "Epoch 40/200\n",
            "2/2 - 1s - loss: 0.0678 - Accuracy: 0.9187 - val_loss: 0.0428 - val_Accuracy: 0.9600 - 761ms/epoch - 381ms/step\n",
            "Epoch 41/200\n",
            "2/2 - 1s - loss: 0.0705 - Accuracy: 0.9160 - val_loss: 0.0576 - val_Accuracy: 0.9400 - 782ms/epoch - 391ms/step\n",
            "Epoch 42/200\n",
            "2/2 - 1s - loss: 0.0688 - Accuracy: 0.9133 - val_loss: 0.0616 - val_Accuracy: 0.9200 - 776ms/epoch - 388ms/step\n",
            "Epoch 43/200\n",
            "2/2 - 1s - loss: 0.0686 - Accuracy: 0.9227 - val_loss: 0.0434 - val_Accuracy: 0.9600 - 777ms/epoch - 389ms/step\n",
            "Epoch 44/200\n",
            "2/2 - 1s - loss: 0.0687 - Accuracy: 0.9213 - val_loss: 0.0541 - val_Accuracy: 0.9400 - 768ms/epoch - 384ms/step\n",
            "Epoch 45/200\n",
            "2/2 - 1s - loss: 0.0660 - Accuracy: 0.9187 - val_loss: 0.0633 - val_Accuracy: 0.9200 - 782ms/epoch - 391ms/step\n",
            "Epoch 46/200\n",
            "2/2 - 1s - loss: 0.0676 - Accuracy: 0.9240 - val_loss: 0.0440 - val_Accuracy: 0.9600 - 779ms/epoch - 390ms/step\n",
            "Epoch 47/200\n",
            "2/2 - 1s - loss: 0.0668 - Accuracy: 0.9213 - val_loss: 0.0524 - val_Accuracy: 0.9600 - 775ms/epoch - 387ms/step\n",
            "Epoch 48/200\n",
            "2/2 - 1s - loss: 0.0658 - Accuracy: 0.9240 - val_loss: 0.0561 - val_Accuracy: 0.9400 - 763ms/epoch - 382ms/step\n",
            "Epoch 49/200\n",
            "2/2 - 1s - loss: 0.0638 - Accuracy: 0.9253 - val_loss: 0.0425 - val_Accuracy: 0.9600 - 786ms/epoch - 393ms/step\n",
            "Epoch 50/200\n",
            "2/2 - 1s - loss: 0.0676 - Accuracy: 0.9227 - val_loss: 0.0473 - val_Accuracy: 0.9600 - 787ms/epoch - 393ms/step\n",
            "Epoch 51/200\n",
            "2/2 - 1s - loss: 0.0642 - Accuracy: 0.9200 - val_loss: 0.0553 - val_Accuracy: 0.9600 - 774ms/epoch - 387ms/step\n",
            "Epoch 52/200\n",
            "2/2 - 1s - loss: 0.0628 - Accuracy: 0.9253 - val_loss: 0.0453 - val_Accuracy: 0.9600 - 786ms/epoch - 393ms/step\n",
            "Epoch 53/200\n",
            "2/2 - 1s - loss: 0.0634 - Accuracy: 0.9213 - val_loss: 0.0488 - val_Accuracy: 0.9600 - 791ms/epoch - 395ms/step\n",
            "Epoch 54/200\n",
            "2/2 - 1s - loss: 0.0619 - Accuracy: 0.9240 - val_loss: 0.0532 - val_Accuracy: 0.9600 - 767ms/epoch - 384ms/step\n",
            "Epoch 55/200\n",
            "2/2 - 1s - loss: 0.0616 - Accuracy: 0.9267 - val_loss: 0.0498 - val_Accuracy: 0.9600 - 761ms/epoch - 380ms/step\n",
            "Epoch 56/200\n",
            "2/2 - 1s - loss: 0.0610 - Accuracy: 0.9253 - val_loss: 0.0490 - val_Accuracy: 0.9600 - 785ms/epoch - 392ms/step\n",
            "Epoch 57/200\n",
            "2/2 - 1s - loss: 0.0611 - Accuracy: 0.9293 - val_loss: 0.0470 - val_Accuracy: 0.9600 - 759ms/epoch - 379ms/step\n",
            "Epoch 58/200\n",
            "2/2 - 1s - loss: 0.0608 - Accuracy: 0.9240 - val_loss: 0.0510 - val_Accuracy: 0.9600 - 787ms/epoch - 394ms/step\n",
            "Epoch 59/200\n",
            "2/2 - 1s - loss: 0.0596 - Accuracy: 0.9320 - val_loss: 0.0555 - val_Accuracy: 0.9600 - 776ms/epoch - 388ms/step\n",
            "Epoch 60/200\n",
            "2/2 - 1s - loss: 0.0626 - Accuracy: 0.9293 - val_loss: 0.0501 - val_Accuracy: 0.9600 - 775ms/epoch - 387ms/step\n",
            "Epoch 61/200\n",
            "2/2 - 1s - loss: 0.0587 - Accuracy: 0.9333 - val_loss: 0.0540 - val_Accuracy: 0.9600 - 777ms/epoch - 389ms/step\n",
            "Epoch 62/200\n",
            "2/2 - 1s - loss: 0.0582 - Accuracy: 0.9307 - val_loss: 0.0442 - val_Accuracy: 0.9600 - 764ms/epoch - 382ms/step\n",
            "Epoch 63/200\n",
            "2/2 - 1s - loss: 0.0582 - Accuracy: 0.9293 - val_loss: 0.0644 - val_Accuracy: 0.9200 - 766ms/epoch - 383ms/step\n",
            "Epoch 64/200\n",
            "2/2 - 1s - loss: 0.0589 - Accuracy: 0.9347 - val_loss: 0.0423 - val_Accuracy: 0.9600 - 767ms/epoch - 384ms/step\n",
            "Epoch 65/200\n",
            "2/2 - 1s - loss: 0.0601 - Accuracy: 0.9280 - val_loss: 0.0562 - val_Accuracy: 0.9400 - 775ms/epoch - 388ms/step\n",
            "Epoch 66/200\n",
            "2/2 - 1s - loss: 0.0583 - Accuracy: 0.9360 - val_loss: 0.0420 - val_Accuracy: 0.9600 - 769ms/epoch - 385ms/step\n",
            "Epoch 67/200\n",
            "2/2 - 1s - loss: 0.0623 - Accuracy: 0.9267 - val_loss: 0.0532 - val_Accuracy: 0.9600 - 768ms/epoch - 384ms/step\n",
            "Epoch 68/200\n",
            "2/2 - 1s - loss: 0.0616 - Accuracy: 0.9253 - val_loss: 0.0421 - val_Accuracy: 0.9600 - 779ms/epoch - 389ms/step\n",
            "Epoch 69/200\n",
            "2/2 - 1s - loss: 0.0701 - Accuracy: 0.9160 - val_loss: 0.0453 - val_Accuracy: 0.9600 - 798ms/epoch - 399ms/step\n",
            "Epoch 70/200\n",
            "2/2 - 1s - loss: 0.0584 - Accuracy: 0.9307 - val_loss: 0.0574 - val_Accuracy: 0.9400 - 772ms/epoch - 386ms/step\n",
            "Epoch 71/200\n",
            "2/2 - 1s - loss: 0.0577 - Accuracy: 0.9320 - val_loss: 0.0421 - val_Accuracy: 0.9600 - 776ms/epoch - 388ms/step\n",
            "Epoch 72/200\n",
            "2/2 - 1s - loss: 0.0617 - Accuracy: 0.9240 - val_loss: 0.0913 - val_Accuracy: 0.8600 - 764ms/epoch - 382ms/step\n",
            "Epoch 73/200\n",
            "2/2 - 1s - loss: 0.0656 - Accuracy: 0.9187 - val_loss: 0.0416 - val_Accuracy: 0.9600 - 785ms/epoch - 393ms/step\n",
            "Epoch 74/200\n",
            "2/2 - 1s - loss: 0.0643 - Accuracy: 0.9240 - val_loss: 0.0454 - val_Accuracy: 0.9600 - 767ms/epoch - 383ms/step\n",
            "Epoch 75/200\n",
            "2/2 - 1s - loss: 0.0599 - Accuracy: 0.9280 - val_loss: 0.0443 - val_Accuracy: 0.9600 - 764ms/epoch - 382ms/step\n",
            "Epoch 76/200\n",
            "2/2 - 1s - loss: 0.0608 - Accuracy: 0.9240 - val_loss: 0.0412 - val_Accuracy: 0.9600 - 761ms/epoch - 381ms/step\n",
            "Epoch 77/200\n",
            "2/2 - 1s - loss: 0.0599 - Accuracy: 0.9280 - val_loss: 0.0482 - val_Accuracy: 0.9600 - 783ms/epoch - 391ms/step\n",
            "Epoch 78/200\n",
            "2/2 - 1s - loss: 0.0550 - Accuracy: 0.9347 - val_loss: 0.0416 - val_Accuracy: 0.9600 - 765ms/epoch - 383ms/step\n",
            "Epoch 79/200\n",
            "2/2 - 1s - loss: 0.0562 - Accuracy: 0.9360 - val_loss: 0.0516 - val_Accuracy: 0.9600 - 768ms/epoch - 384ms/step\n",
            "Epoch 80/200\n",
            "2/2 - 1s - loss: 0.0533 - Accuracy: 0.9400 - val_loss: 0.0430 - val_Accuracy: 0.9600 - 764ms/epoch - 382ms/step\n",
            "Epoch 81/200\n",
            "2/2 - 1s - loss: 0.0530 - Accuracy: 0.9373 - val_loss: 0.0460 - val_Accuracy: 0.9600 - 771ms/epoch - 386ms/step\n",
            "Epoch 82/200\n",
            "2/2 - 1s - loss: 0.0515 - Accuracy: 0.9427 - val_loss: 0.0494 - val_Accuracy: 0.9600 - 759ms/epoch - 380ms/step\n",
            "Epoch 83/200\n",
            "2/2 - 1s - loss: 0.0511 - Accuracy: 0.9413 - val_loss: 0.0454 - val_Accuracy: 0.9600 - 766ms/epoch - 383ms/step\n",
            "Epoch 84/200\n",
            "2/2 - 1s - loss: 0.0503 - Accuracy: 0.9427 - val_loss: 0.0452 - val_Accuracy: 0.9600 - 767ms/epoch - 383ms/step\n",
            "Epoch 85/200\n",
            "2/2 - 1s - loss: 0.0510 - Accuracy: 0.9400 - val_loss: 0.0424 - val_Accuracy: 0.9600 - 766ms/epoch - 383ms/step\n",
            "Epoch 86/200\n",
            "2/2 - 1s - loss: 0.0520 - Accuracy: 0.9427 - val_loss: 0.0521 - val_Accuracy: 0.9600 - 777ms/epoch - 389ms/step\n",
            "Epoch 87/200\n",
            "2/2 - 1s - loss: 0.0533 - Accuracy: 0.9400 - val_loss: 0.0442 - val_Accuracy: 0.9600 - 769ms/epoch - 385ms/step\n",
            "Epoch 88/200\n",
            "2/2 - 1s - loss: 0.0632 - Accuracy: 0.9147 - val_loss: 0.0569 - val_Accuracy: 0.9400 - 775ms/epoch - 388ms/step\n",
            "Epoch 89/200\n",
            "2/2 - 1s - loss: 0.0564 - Accuracy: 0.9347 - val_loss: 0.0418 - val_Accuracy: 0.9600 - 771ms/epoch - 386ms/step\n",
            "Epoch 90/200\n",
            "2/2 - 1s - loss: 0.0528 - Accuracy: 0.9373 - val_loss: 0.0426 - val_Accuracy: 0.9600 - 780ms/epoch - 390ms/step\n",
            "Epoch 91/200\n",
            "2/2 - 1s - loss: 0.0523 - Accuracy: 0.9427 - val_loss: 0.0744 - val_Accuracy: 0.9000 - 755ms/epoch - 377ms/step\n",
            "Epoch 92/200\n",
            "2/2 - 1s - loss: 0.0531 - Accuracy: 0.9347 - val_loss: 0.0431 - val_Accuracy: 0.9600 - 777ms/epoch - 388ms/step\n",
            "Epoch 93/200\n",
            "2/2 - 1s - loss: 0.0565 - Accuracy: 0.9320 - val_loss: 0.0555 - val_Accuracy: 0.9400 - 765ms/epoch - 383ms/step\n",
            "Epoch 94/200\n",
            "2/2 - 1s - loss: 0.0509 - Accuracy: 0.9453 - val_loss: 0.0417 - val_Accuracy: 0.9600 - 765ms/epoch - 382ms/step\n",
            "Epoch 95/200\n",
            "2/2 - 1s - loss: 0.0474 - Accuracy: 0.9480 - val_loss: 0.0413 - val_Accuracy: 0.9600 - 763ms/epoch - 381ms/step\n",
            "Epoch 96/200\n",
            "2/2 - 1s - loss: 0.0488 - Accuracy: 0.9427 - val_loss: 0.0643 - val_Accuracy: 0.9200 - 768ms/epoch - 384ms/step\n",
            "Epoch 97/200\n",
            "2/2 - 1s - loss: 0.0506 - Accuracy: 0.9427 - val_loss: 0.0413 - val_Accuracy: 0.9600 - 809ms/epoch - 404ms/step\n",
            "Epoch 98/200\n",
            "2/2 - 1s - loss: 0.0483 - Accuracy: 0.9467 - val_loss: 0.0469 - val_Accuracy: 0.9600 - 755ms/epoch - 378ms/step\n",
            "Epoch 99/200\n",
            "2/2 - 1s - loss: 0.0463 - Accuracy: 0.9493 - val_loss: 0.0426 - val_Accuracy: 0.9600 - 765ms/epoch - 382ms/step\n",
            "Epoch 100/200\n",
            "2/2 - 1s - loss: 0.0470 - Accuracy: 0.9467 - val_loss: 0.0437 - val_Accuracy: 0.9600 - 790ms/epoch - 395ms/step\n",
            "Epoch 101/200\n",
            "2/2 - 1s - loss: 0.0447 - Accuracy: 0.9520 - val_loss: 0.0435 - val_Accuracy: 0.9600 - 766ms/epoch - 383ms/step\n",
            "Epoch 102/200\n",
            "2/2 - 1s - loss: 0.0441 - Accuracy: 0.9547 - val_loss: 0.0423 - val_Accuracy: 0.9600 - 774ms/epoch - 387ms/step\n",
            "Epoch 103/200\n",
            "2/2 - 1s - loss: 0.0460 - Accuracy: 0.9520 - val_loss: 0.0432 - val_Accuracy: 0.9600 - 763ms/epoch - 382ms/step\n",
            "Epoch 104/200\n",
            "2/2 - 1s - loss: 0.0471 - Accuracy: 0.9453 - val_loss: 0.0526 - val_Accuracy: 0.9400 - 758ms/epoch - 379ms/step\n",
            "Epoch 105/200\n",
            "2/2 - 1s - loss: 0.0461 - Accuracy: 0.9507 - val_loss: 0.0435 - val_Accuracy: 0.9600 - 795ms/epoch - 398ms/step\n",
            "Epoch 106/200\n",
            "2/2 - 1s - loss: 0.0462 - Accuracy: 0.9467 - val_loss: 0.0513 - val_Accuracy: 0.9400 - 773ms/epoch - 386ms/step\n",
            "Epoch 107/200\n",
            "2/2 - 1s - loss: 0.0453 - Accuracy: 0.9480 - val_loss: 0.0431 - val_Accuracy: 0.9600 - 767ms/epoch - 383ms/step\n",
            "Epoch 108/200\n",
            "2/2 - 1s - loss: 0.0418 - Accuracy: 0.9560 - val_loss: 0.0435 - val_Accuracy: 0.9600 - 773ms/epoch - 386ms/step\n",
            "Epoch 109/200\n",
            "2/2 - 1s - loss: 0.0432 - Accuracy: 0.9547 - val_loss: 0.0556 - val_Accuracy: 0.9400 - 801ms/epoch - 400ms/step\n",
            "Epoch 110/200\n",
            "2/2 - 1s - loss: 0.0482 - Accuracy: 0.9453 - val_loss: 0.0432 - val_Accuracy: 0.9600 - 778ms/epoch - 389ms/step\n",
            "Epoch 111/200\n",
            "2/2 - 1s - loss: 0.0415 - Accuracy: 0.9533 - val_loss: 0.0437 - val_Accuracy: 0.9600 - 779ms/epoch - 389ms/step\n",
            "Epoch 112/200\n",
            "2/2 - 1s - loss: 0.0412 - Accuracy: 0.9573 - val_loss: 0.0432 - val_Accuracy: 0.9600 - 772ms/epoch - 386ms/step\n",
            "Epoch 113/200\n",
            "2/2 - 1s - loss: 0.0407 - Accuracy: 0.9533 - val_loss: 0.0431 - val_Accuracy: 0.9600 - 782ms/epoch - 391ms/step\n",
            "Epoch 114/200\n",
            "2/2 - 1s - loss: 0.0404 - Accuracy: 0.9560 - val_loss: 0.0452 - val_Accuracy: 0.9600 - 772ms/epoch - 386ms/step\n",
            "Epoch 115/200\n",
            "2/2 - 1s - loss: 0.0402 - Accuracy: 0.9573 - val_loss: 0.0438 - val_Accuracy: 0.9600 - 760ms/epoch - 380ms/step\n",
            "Epoch 116/200\n",
            "2/2 - 1s - loss: 0.0407 - Accuracy: 0.9560 - val_loss: 0.0469 - val_Accuracy: 0.9400 - 781ms/epoch - 391ms/step\n",
            "Epoch 117/200\n",
            "2/2 - 1s - loss: 0.0403 - Accuracy: 0.9587 - val_loss: 0.0465 - val_Accuracy: 0.9400 - 786ms/epoch - 393ms/step\n",
            "Epoch 118/200\n",
            "2/2 - 1s - loss: 0.0418 - Accuracy: 0.9547 - val_loss: 0.0738 - val_Accuracy: 0.9200 - 766ms/epoch - 383ms/step\n",
            "Epoch 119/200\n",
            "2/2 - 1s - loss: 0.0555 - Accuracy: 0.9320 - val_loss: 0.0550 - val_Accuracy: 0.9400 - 794ms/epoch - 397ms/step\n",
            "Epoch 120/200\n",
            "2/2 - 1s - loss: 0.0591 - Accuracy: 0.9267 - val_loss: 0.0438 - val_Accuracy: 0.9600 - 782ms/epoch - 391ms/step\n",
            "Epoch 121/200\n",
            "2/2 - 1s - loss: 0.0473 - Accuracy: 0.9467 - val_loss: 0.0422 - val_Accuracy: 0.9600 - 777ms/epoch - 388ms/step\n",
            "Epoch 122/200\n",
            "2/2 - 1s - loss: 0.0534 - Accuracy: 0.9333 - val_loss: 0.0542 - val_Accuracy: 0.9400 - 765ms/epoch - 382ms/step\n",
            "Epoch 123/200\n",
            "2/2 - 1s - loss: 0.0646 - Accuracy: 0.9173 - val_loss: 0.0517 - val_Accuracy: 0.9400 - 773ms/epoch - 387ms/step\n",
            "Epoch 124/200\n",
            "2/2 - 1s - loss: 0.0521 - Accuracy: 0.9347 - val_loss: 0.0439 - val_Accuracy: 0.9600 - 783ms/epoch - 391ms/step\n",
            "Epoch 125/200\n",
            "2/2 - 1s - loss: 0.0554 - Accuracy: 0.9347 - val_loss: 0.0413 - val_Accuracy: 0.9600 - 785ms/epoch - 393ms/step\n",
            "Epoch 126/200\n",
            "2/2 - 1s - loss: 0.0501 - Accuracy: 0.9373 - val_loss: 0.0411 - val_Accuracy: 0.9600 - 775ms/epoch - 387ms/step\n",
            "Epoch 127/200\n",
            "2/2 - 1s - loss: 0.0445 - Accuracy: 0.9467 - val_loss: 0.0451 - val_Accuracy: 0.9400 - 788ms/epoch - 394ms/step\n",
            "Epoch 128/200\n",
            "2/2 - 1s - loss: 0.0516 - Accuracy: 0.9400 - val_loss: 0.0524 - val_Accuracy: 0.9600 - 780ms/epoch - 390ms/step\n",
            "Epoch 129/200\n",
            "2/2 - 1s - loss: 0.0445 - Accuracy: 0.9493 - val_loss: 0.0436 - val_Accuracy: 0.9600 - 765ms/epoch - 382ms/step\n",
            "Epoch 130/200\n",
            "2/2 - 1s - loss: 0.0469 - Accuracy: 0.9467 - val_loss: 0.0426 - val_Accuracy: 0.9600 - 808ms/epoch - 404ms/step\n",
            "Epoch 131/200\n",
            "2/2 - 1s - loss: 0.0456 - Accuracy: 0.9480 - val_loss: 0.0404 - val_Accuracy: 0.9600 - 766ms/epoch - 383ms/step\n",
            "Epoch 132/200\n",
            "2/2 - 1s - loss: 0.0425 - Accuracy: 0.9520 - val_loss: 0.0433 - val_Accuracy: 0.9600 - 806ms/epoch - 403ms/step\n",
            "Epoch 133/200\n",
            "2/2 - 1s - loss: 0.0453 - Accuracy: 0.9533 - val_loss: 0.0451 - val_Accuracy: 0.9600 - 768ms/epoch - 384ms/step\n",
            "Epoch 134/200\n",
            "2/2 - 1s - loss: 0.0409 - Accuracy: 0.9547 - val_loss: 0.0427 - val_Accuracy: 0.9600 - 766ms/epoch - 383ms/step\n",
            "Epoch 135/200\n",
            "2/2 - 1s - loss: 0.0418 - Accuracy: 0.9560 - val_loss: 0.0410 - val_Accuracy: 0.9600 - 787ms/epoch - 394ms/step\n",
            "Epoch 136/200\n",
            "2/2 - 1s - loss: 0.0404 - Accuracy: 0.9560 - val_loss: 0.0410 - val_Accuracy: 0.9600 - 769ms/epoch - 385ms/step\n",
            "Epoch 137/200\n",
            "2/2 - 1s - loss: 0.0405 - Accuracy: 0.9547 - val_loss: 0.0420 - val_Accuracy: 0.9600 - 760ms/epoch - 380ms/step\n",
            "Epoch 138/200\n",
            "2/2 - 1s - loss: 0.0406 - Accuracy: 0.9560 - val_loss: 0.0428 - val_Accuracy: 0.9600 - 791ms/epoch - 396ms/step\n",
            "Epoch 139/200\n",
            "2/2 - 1s - loss: 0.0381 - Accuracy: 0.9587 - val_loss: 0.0433 - val_Accuracy: 0.9600 - 773ms/epoch - 386ms/step\n",
            "Epoch 140/200\n",
            "2/2 - 1s - loss: 0.0388 - Accuracy: 0.9587 - val_loss: 0.0441 - val_Accuracy: 0.9600 - 783ms/epoch - 392ms/step\n",
            "Epoch 141/200\n",
            "2/2 - 1s - loss: 0.0380 - Accuracy: 0.9587 - val_loss: 0.0428 - val_Accuracy: 0.9600 - 772ms/epoch - 386ms/step\n",
            "Epoch 142/200\n",
            "2/2 - 1s - loss: 0.0370 - Accuracy: 0.9587 - val_loss: 0.0429 - val_Accuracy: 0.9600 - 776ms/epoch - 388ms/step\n",
            "Epoch 143/200\n",
            "2/2 - 1s - loss: 0.0373 - Accuracy: 0.9587 - val_loss: 0.0433 - val_Accuracy: 0.9600 - 779ms/epoch - 390ms/step\n",
            "Epoch 144/200\n",
            "2/2 - 1s - loss: 0.0365 - Accuracy: 0.9600 - val_loss: 0.0442 - val_Accuracy: 0.9600 - 767ms/epoch - 383ms/step\n",
            "Epoch 145/200\n",
            "2/2 - 1s - loss: 0.0366 - Accuracy: 0.9600 - val_loss: 0.0467 - val_Accuracy: 0.9400 - 782ms/epoch - 391ms/step\n",
            "Epoch 146/200\n",
            "2/2 - 1s - loss: 0.0367 - Accuracy: 0.9613 - val_loss: 0.0451 - val_Accuracy: 0.9600 - 766ms/epoch - 383ms/step\n",
            "Epoch 147/200\n",
            "2/2 - 1s - loss: 0.0361 - Accuracy: 0.9600 - val_loss: 0.0458 - val_Accuracy: 0.9400 - 768ms/epoch - 384ms/step\n",
            "Epoch 148/200\n",
            "2/2 - 1s - loss: 0.0359 - Accuracy: 0.9613 - val_loss: 0.0473 - val_Accuracy: 0.9400 - 780ms/epoch - 390ms/step\n",
            "Epoch 149/200\n",
            "2/2 - 1s - loss: 0.0364 - Accuracy: 0.9640 - val_loss: 0.0526 - val_Accuracy: 0.9400 - 756ms/epoch - 378ms/step\n",
            "Epoch 150/200\n",
            "2/2 - 1s - loss: 0.0430 - Accuracy: 0.9507 - val_loss: 0.0560 - val_Accuracy: 0.9200 - 774ms/epoch - 387ms/step\n",
            "Epoch 151/200\n",
            "2/2 - 1s - loss: 0.0445 - Accuracy: 0.9440 - val_loss: 0.0547 - val_Accuracy: 0.9400 - 787ms/epoch - 394ms/step\n",
            "Epoch 152/200\n",
            "2/2 - 1s - loss: 0.0463 - Accuracy: 0.9440 - val_loss: 0.0470 - val_Accuracy: 0.9400 - 786ms/epoch - 393ms/step\n",
            "Epoch 153/200\n",
            "2/2 - 1s - loss: 0.0370 - Accuracy: 0.9627 - val_loss: 0.0454 - val_Accuracy: 0.9400 - 755ms/epoch - 378ms/step\n",
            "Epoch 154/200\n",
            "2/2 - 1s - loss: 0.0364 - Accuracy: 0.9613 - val_loss: 0.0474 - val_Accuracy: 0.9400 - 784ms/epoch - 392ms/step\n",
            "Epoch 155/200\n",
            "2/2 - 1s - loss: 0.0388 - Accuracy: 0.9613 - val_loss: 0.0456 - val_Accuracy: 0.9400 - 786ms/epoch - 393ms/step\n",
            "Epoch 156/200\n",
            "2/2 - 1s - loss: 0.0360 - Accuracy: 0.9613 - val_loss: 0.0554 - val_Accuracy: 0.9200 - 778ms/epoch - 389ms/step\n",
            "Epoch 157/200\n",
            "2/2 - 1s - loss: 0.0416 - Accuracy: 0.9480 - val_loss: 0.0530 - val_Accuracy: 0.9400 - 769ms/epoch - 384ms/step\n",
            "Epoch 158/200\n",
            "2/2 - 1s - loss: 0.0418 - Accuracy: 0.9533 - val_loss: 0.0603 - val_Accuracy: 0.9200 - 779ms/epoch - 389ms/step\n",
            "Epoch 159/200\n",
            "2/2 - 1s - loss: 0.0517 - Accuracy: 0.9320 - val_loss: 0.0573 - val_Accuracy: 0.9400 - 781ms/epoch - 391ms/step\n",
            "Epoch 160/200\n",
            "2/2 - 1s - loss: 0.0572 - Accuracy: 0.9280 - val_loss: 0.1204 - val_Accuracy: 0.8400 - 758ms/epoch - 379ms/step\n",
            "Epoch 161/200\n",
            "2/2 - 1s - loss: 0.0833 - Accuracy: 0.8907 - val_loss: 0.0605 - val_Accuracy: 0.9400 - 781ms/epoch - 391ms/step\n",
            "Epoch 162/200\n",
            "2/2 - 1s - loss: 0.0668 - Accuracy: 0.9187 - val_loss: 0.1051 - val_Accuracy: 0.8400 - 782ms/epoch - 391ms/step\n",
            "Epoch 163/200\n",
            "2/2 - 1s - loss: 0.0649 - Accuracy: 0.9200 - val_loss: 0.0495 - val_Accuracy: 0.9400 - 768ms/epoch - 384ms/step\n",
            "Epoch 164/200\n",
            "2/2 - 1s - loss: 0.0493 - Accuracy: 0.9413 - val_loss: 0.0403 - val_Accuracy: 0.9600 - 764ms/epoch - 382ms/step\n",
            "Epoch 165/200\n",
            "2/2 - 1s - loss: 0.0393 - Accuracy: 0.9560 - val_loss: 0.0416 - val_Accuracy: 0.9600 - 768ms/epoch - 384ms/step\n",
            "Epoch 166/200\n",
            "2/2 - 1s - loss: 0.0401 - Accuracy: 0.9573 - val_loss: 0.0425 - val_Accuracy: 0.9600 - 767ms/epoch - 383ms/step\n",
            "Epoch 167/200\n",
            "2/2 - 1s - loss: 0.0399 - Accuracy: 0.9573 - val_loss: 0.0500 - val_Accuracy: 0.9400 - 781ms/epoch - 390ms/step\n",
            "Epoch 168/200\n",
            "2/2 - 1s - loss: 0.0425 - Accuracy: 0.9520 - val_loss: 0.0400 - val_Accuracy: 0.9600 - 795ms/epoch - 398ms/step\n",
            "Epoch 169/200\n",
            "2/2 - 1s - loss: 0.0377 - Accuracy: 0.9613 - val_loss: 0.0424 - val_Accuracy: 0.9600 - 774ms/epoch - 387ms/step\n",
            "Epoch 170/200\n",
            "2/2 - 1s - loss: 0.0388 - Accuracy: 0.9587 - val_loss: 0.0431 - val_Accuracy: 0.9600 - 763ms/epoch - 381ms/step\n",
            "Epoch 171/200\n",
            "2/2 - 1s - loss: 0.0386 - Accuracy: 0.9560 - val_loss: 0.0412 - val_Accuracy: 0.9600 - 782ms/epoch - 391ms/step\n",
            "Epoch 172/200\n",
            "2/2 - 1s - loss: 0.0370 - Accuracy: 0.9587 - val_loss: 0.0415 - val_Accuracy: 0.9600 - 761ms/epoch - 381ms/step\n",
            "Epoch 173/200\n",
            "2/2 - 1s - loss: 0.0369 - Accuracy: 0.9600 - val_loss: 0.0416 - val_Accuracy: 0.9600 - 777ms/epoch - 389ms/step\n",
            "Epoch 174/200\n",
            "2/2 - 1s - loss: 0.0356 - Accuracy: 0.9613 - val_loss: 0.0433 - val_Accuracy: 0.9600 - 785ms/epoch - 392ms/step\n",
            "Epoch 175/200\n",
            "2/2 - 1s - loss: 0.0357 - Accuracy: 0.9600 - val_loss: 0.0422 - val_Accuracy: 0.9600 - 785ms/epoch - 392ms/step\n",
            "Epoch 176/200\n",
            "2/2 - 1s - loss: 0.0351 - Accuracy: 0.9613 - val_loss: 0.0437 - val_Accuracy: 0.9600 - 763ms/epoch - 382ms/step\n",
            "Epoch 177/200\n",
            "2/2 - 1s - loss: 0.0346 - Accuracy: 0.9627 - val_loss: 0.0444 - val_Accuracy: 0.9600 - 768ms/epoch - 384ms/step\n",
            "Epoch 178/200\n",
            "2/2 - 1s - loss: 0.0345 - Accuracy: 0.9653 - val_loss: 0.0473 - val_Accuracy: 0.9400 - 770ms/epoch - 385ms/step\n",
            "Epoch 179/200\n",
            "2/2 - 1s - loss: 0.0382 - Accuracy: 0.9600 - val_loss: 0.0439 - val_Accuracy: 0.9600 - 772ms/epoch - 386ms/step\n",
            "Epoch 180/200\n",
            "2/2 - 1s - loss: 0.0371 - Accuracy: 0.9560 - val_loss: 0.0447 - val_Accuracy: 0.9400 - 759ms/epoch - 379ms/step\n",
            "Epoch 181/200\n",
            "2/2 - 1s - loss: 0.0365 - Accuracy: 0.9613 - val_loss: 0.0477 - val_Accuracy: 0.9400 - 766ms/epoch - 383ms/step\n",
            "Epoch 182/200\n",
            "2/2 - 1s - loss: 0.0357 - Accuracy: 0.9613 - val_loss: 0.0577 - val_Accuracy: 0.9400 - 760ms/epoch - 380ms/step\n",
            "Epoch 183/200\n",
            "2/2 - 1s - loss: 0.0404 - Accuracy: 0.9507 - val_loss: 0.0539 - val_Accuracy: 0.9400 - 768ms/epoch - 384ms/step\n",
            "Epoch 184/200\n",
            "2/2 - 1s - loss: 0.0419 - Accuracy: 0.9547 - val_loss: 0.0553 - val_Accuracy: 0.9400 - 772ms/epoch - 386ms/step\n",
            "Epoch 185/200\n",
            "2/2 - 1s - loss: 0.0420 - Accuracy: 0.9453 - val_loss: 0.0464 - val_Accuracy: 0.9400 - 773ms/epoch - 387ms/step\n",
            "Epoch 186/200\n",
            "2/2 - 1s - loss: 0.0362 - Accuracy: 0.9627 - val_loss: 0.0428 - val_Accuracy: 0.9600 - 761ms/epoch - 380ms/step\n",
            "Epoch 187/200\n",
            "2/2 - 1s - loss: 0.0350 - Accuracy: 0.9600 - val_loss: 0.0422 - val_Accuracy: 0.9600 - 765ms/epoch - 383ms/step\n",
            "Epoch 188/200\n",
            "2/2 - 1s - loss: 0.0352 - Accuracy: 0.9627 - val_loss: 0.0423 - val_Accuracy: 0.9600 - 774ms/epoch - 387ms/step\n",
            "Epoch 189/200\n",
            "2/2 - 1s - loss: 0.0353 - Accuracy: 0.9613 - val_loss: 0.0427 - val_Accuracy: 0.9600 - 770ms/epoch - 385ms/step\n",
            "Epoch 190/200\n",
            "2/2 - 1s - loss: 0.0323 - Accuracy: 0.9680 - val_loss: 0.0473 - val_Accuracy: 0.9400 - 765ms/epoch - 383ms/step\n",
            "Epoch 191/200\n",
            "2/2 - 1s - loss: 0.0349 - Accuracy: 0.9627 - val_loss: 0.0482 - val_Accuracy: 0.9400 - 768ms/epoch - 384ms/step\n",
            "Epoch 192/200\n",
            "2/2 - 1s - loss: 0.0348 - Accuracy: 0.9667 - val_loss: 0.0476 - val_Accuracy: 0.9400 - 760ms/epoch - 380ms/step\n",
            "Epoch 193/200\n",
            "2/2 - 1s - loss: 0.0345 - Accuracy: 0.9627 - val_loss: 0.0467 - val_Accuracy: 0.9400 - 767ms/epoch - 383ms/step\n",
            "Epoch 194/200\n",
            "2/2 - 1s - loss: 0.0338 - Accuracy: 0.9653 - val_loss: 0.0441 - val_Accuracy: 0.9600 - 765ms/epoch - 382ms/step\n",
            "Epoch 195/200\n",
            "2/2 - 1s - loss: 0.0316 - Accuracy: 0.9680 - val_loss: 0.0443 - val_Accuracy: 0.9400 - 775ms/epoch - 387ms/step\n",
            "Epoch 196/200\n",
            "2/2 - 1s - loss: 0.0326 - Accuracy: 0.9667 - val_loss: 0.0437 - val_Accuracy: 0.9600 - 760ms/epoch - 380ms/step\n",
            "Epoch 197/200\n",
            "2/2 - 1s - loss: 0.0316 - Accuracy: 0.9693 - val_loss: 0.0435 - val_Accuracy: 0.9600 - 780ms/epoch - 390ms/step\n",
            "Epoch 198/200\n",
            "2/2 - 1s - loss: 0.0313 - Accuracy: 0.9667 - val_loss: 0.0432 - val_Accuracy: 0.9600 - 767ms/epoch - 383ms/step\n",
            "Epoch 199/200\n",
            "2/2 - 1s - loss: 0.0310 - Accuracy: 0.9667 - val_loss: 0.0431 - val_Accuracy: 0.9600 - 784ms/epoch - 392ms/step\n",
            "Epoch 200/200\n",
            "2/2 - 1s - loss: 0.0313 - Accuracy: 0.9680 - val_loss: 0.0429 - val_Accuracy: 0.9600 - 728ms/epoch - 364ms/step\n"
          ]
        }
      ]
    },
    {
      "cell_type": "code",
      "source": [
        "model.save(drive_save_path + '/VGG16LSTM.h5')"
      ],
      "metadata": {
        "id": "LeBoaUSoof3z"
      },
      "execution_count": null,
      "outputs": []
    },
    {
      "metadata": {
        "id": "8YG-bPW4BL6U"
      },
      "cell_type": "markdown",
      "source": [
        "## Print the model accuracy"
      ]
    },
    {
      "metadata": {
        "id": "zO6YSbxgBZ3f",
        "colab": {
          "base_uri": "https://localhost:8080/",
          "height": 573
        },
        "outputId": "b265a6c1-d792-40a3-bfc6-189ebfb9b5ca"
      },
      "cell_type": "code",
      "source": [
        "plt.plot(history.history['Accuracy'])\n",
        "plt.plot(history.history['val_Accuracy'])\n",
        "plt.title('model Accuracy')\n",
        "plt.ylabel('accuracy')\n",
        "plt.xlabel('epoch')\n",
        "plt.legend(['train', 'validation'], loc='upper left')\n",
        "plt.savefig('destination_path.svg', format='svg', dpi=1000)\n",
        "plt.show()\n",
        "# summarize history for loss\n",
        "plt.plot(history.history['loss'])\n",
        "plt.plot(history.history['val_loss'])\n",
        "plt.title('model loss')\n",
        "plt.ylabel('loss')\n",
        "plt.xlabel('epoch')\n",
        "plt.legend(['train', 'validation'], loc='upper left')\n",
        "plt.savefig('destination_path1.svg', format='svg', dpi=1000)\n",
        "plt.show()"
      ],
      "execution_count": null,
      "outputs": [
        {
          "output_type": "display_data",
          "data": {
            "image/png": "[encoded data removed]",
            "text/plain": [
              "<Figure size 432x288 with 1 Axes>"
            ]
          },
          "metadata": {
            "needs_background": "light"
          }
        },
        {
          "output_type": "display_data",
          "data": {
            "image/png": "[encoded data removed]",
            "text/plain": [
              "<Figure size 432x288 with 1 Axes>"
            ]
          },
          "metadata": {
            "needs_background": "light"
          }
        }
      ]
    },
    {
      "metadata": {
        "id": "BVJCgz3bA4A3"
      },
      "cell_type": "markdown",
      "source": [
        "## Test and evaluate the model"
      ]
    },
    {
      "metadata": {
        "id": "3MwCq0LpA59G"
      },
      "cell_type": "markdown",
      "source": [
        "I am going to test and evaluate the model with 20 % of the total videos. This videos have not been used to train the network. "
      ]
    },
    {
      "cell_type": "code",
      "source": [
        "# If the model and the the transfer values for testing sets were saved, just load them from Drive and run this code block first before testing without re-training the model\n",
        "datasets_available = ['hockey_fights', 'movies_fights', 'violent_flow']\n",
        "dataset = datasets_available[0]\n",
        "\n",
        "folder_path = os.path.join('/mydrive/AIFinalProject_Group1/', dataset)\n",
        "\n",
        "testing_transfer_values_path = os.path.join(folder_path, 'pruebavalidation.h5') \n",
        "trained_model_path = os.path.join(folder_path, 'VGG16LSTM.h5')\n",
        "print(testing_transfer_values_path)"
      ],
      "metadata": {
        "colab": {
          "base_uri": "https://localhost:8080/"
        },
        "id": "K2BKJyTenvfI",
        "outputId": "36274f0b-f5e5-4b80-d248-b4829c08d3c4"
      },
      "execution_count": 3,
      "outputs": [
        {
          "output_type": "stream",
          "name": "stdout",
          "text": [
            "/mydrive/AIFinalProject_Group1/hockey_fights/pruebavalidation.h5\n"
          ]
        }
      ]
    },
    {
      "cell_type": "code",
      "source": [
        "shutil.copy(testing_transfer_values_path, 'content/')\n",
        "shutil.copy(trained_model_path, 'content/')\n"
      ],
      "metadata": {
        "colab": {
          "base_uri": "https://localhost:8080/",
          "height": 35
        },
        "id": "auDf26Hupond",
        "outputId": "0c9db7b6-9515-48fc-d064-6dd3cf62119c"
      },
      "execution_count": 6,
      "outputs": [
        {
          "output_type": "execute_result",
          "data": {
            "application/vnd.google.colaboratory.intrinsic+json": {
              "type": "string"
            },
            "text/plain": [
              "'content/VGG16LSTM.h5'"
            ]
          },
          "metadata": {},
          "execution_count": 6
        }
      ]
    },
    {
      "cell_type": "code",
      "source": [
        "%cd content/"
      ],
      "metadata": {
        "colab": {
          "base_uri": "https://localhost:8080/"
        },
        "id": "Fn_myLJ4q3qa",
        "outputId": "9bd7f480-f9f6-4f40-8655-50c182bed01b"
      },
      "execution_count": 7,
      "outputs": [
        {
          "output_type": "stream",
          "name": "stdout",
          "text": [
            "/content\n"
          ]
        }
      ]
    },
    {
      "cell_type": "code",
      "source": [
        "# Load the model\n",
        "model = keras.models.load_model('VGG16LSTM.h5')"
      ],
      "metadata": {
        "id": "04QxklyGqkwj"
      },
      "execution_count": 8,
      "outputs": []
    },
    {
      "cell_type": "code",
      "source": [
        "model.compile(loss='mean_squared_error', optimizer='adam',metrics=['Accuracy'])"
      ],
      "metadata": {
        "id": "afCiVlYkq9lG"
      },
      "execution_count": 9,
      "outputs": []
    },
    {
      "cell_type": "markdown",
      "source": [
        "### Test the model\n",
        "Plese note that the transfer values of the testing set are used, not the test videos, for convinience"
      ],
      "metadata": {
        "id": "xWV0BJ9yqv-B"
      }
    },
    {
      "cell_type": "code",
      "source": [
        "data_test, target_test = process_alldata_test()\n",
        "\n",
        "predicted_labels = []\n",
        "for i in range(len(data_test)):\n",
        "  data_test[i] = np.expand_dims(data_test[i], axis=0)\n",
        "  prediction = model.predict(data_test[i])[0]\n",
        "  if prediction[1] > 0.9:\n",
        "    predicted_labels.append([0.0, 1.0])\n",
        "  else:\n",
        "    predicted_labels.append([1.0, 0.0])\n",
        "\n",
        "data_test, target_test = process_alldata_test()"
      ],
      "metadata": {
        "id": "kOztQoAeUOx-"
      },
      "execution_count": 13,
      "outputs": []
    },
    {
      "cell_type": "markdown",
      "source": [
        "### Evaluate the model"
      ],
      "metadata": {
        "id": "o5eV3Nm-qZHJ"
      }
    },
    {
      "cell_type": "code",
      "source": [
        "target_test1 = np.argmax(target_test, axis=1) # 0 for violence and 1 for non-violence\n",
        "predicted_labels1 =np.argmax( predicted_labels, axis=1) # 0 for violence and 1 for non-violence\n",
        "print(classification_report(target_test1, predicted_labels1))"
      ],
      "metadata": {
        "colab": {
          "base_uri": "https://localhost:8080/"
        },
        "id": "NYkm63Qk39l9",
        "outputId": "fe1a888f-5334-44a1-b093-d1dbfa2fb58e"
      },
      "execution_count": 14,
      "outputs": [
        {
          "output_type": "stream",
          "name": "stdout",
          "text": [
            "              precision    recall  f1-score   support\n",
            "\n",
            "           0       0.87      0.97      0.92       100\n",
            "           1       0.97      0.86      0.91       100\n",
            "\n",
            "    accuracy                           0.92       200\n",
            "   macro avg       0.92      0.92      0.91       200\n",
            "weighted avg       0.92      0.92      0.91       200\n",
            "\n"
          ]
        }
      ]
    },
    {
      "cell_type": "markdown",
      "source": [
        "### Model Inference"
      ],
      "metadata": {
        "id": "-_C__BaUWPkO"
      }
    },
    {
      "cell_type": "markdown",
      "source": [
        "The following code is for the case when the model is actually trained, not the case when the saved transfer values and model is loaded into the Colab folder, so that I can keep track of the test video names in names_test to decide which video to use \n",
        "\n",
        "Note: the names in names_test is shuffled"
      ],
      "metadata": {
        "id": "9-07nRdcZrti"
      }
    },
    {
      "cell_type": "code",
      "source": [
        "# Get the transfer value of a test video\n",
        "idx = 2\n",
        "test_video = data_test[idx]\n",
        "test_video = np.expand_dims(test_video, axis=0)\n",
        "prediction = model.predict(test_video)\n",
        "prediction = np.argmax(prediction) # 0 for violence and 1 for non-violence\n",
        "print('Working on the video ' + names_test[idx])"
      ],
      "metadata": {
        "id": "3S4FNZ9QWVav"
      },
      "execution_count": 26,
      "outputs": []
    },
    {
      "cell_type": "code",
      "source": [
        "# Make an alert if there are violence scenes\n",
        "# Create an object to read the video\n",
        "path_to_video = os.path.join('data', names_test[idx])\n",
        "video = cv2.VideoCapture(path_to_video)\n",
        "\n",
        "\n",
        "# Set the resolution\n",
        "frame_width = int(video.get(3))\n",
        "frame_height = int(video.get(4))\n",
        "\n",
        "size = (frame_width, frame_height)\n",
        "\n",
        "result = cv2.VideoWriter('output.avi',\n",
        "                         cv2.VideoWriter_fourcc(*'XVID'),\n",
        "                         10, size)\n",
        "\n",
        "while (True):\n",
        "    ret, frame = video.read()\n",
        "\n",
        "    if ret == True:\n",
        "        image = cv2.putText(frame, 'ALERT', (30, 80), cv2.FONT_HERSHEY_SIMPLEX,\n",
        "                            1, (0, 0, 255), 2, cv2.LINE_AA)\n",
        "        # Write the frame into the\n",
        "        # file 'output.avi'\n",
        "        result.write(frame)\n",
        "\n",
        "    # Break the loop\n",
        "    else:\n",
        "        break\n",
        "\n",
        "# When everything done, release \n",
        "# the video capture and video \n",
        "# write objects\n",
        "video.release()\n",
        "result.release()\n",
        "\n",
        "print(\"The video inference was successful\")"
      ],
      "metadata": {
        "id": "58yklY6RZDYM"
      },
      "execution_count": null,
      "outputs": []
    }
  ]
}
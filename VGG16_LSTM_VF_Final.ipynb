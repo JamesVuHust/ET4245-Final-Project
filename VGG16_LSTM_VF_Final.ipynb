{
  "nbformat": 4,
  "nbformat_minor": 0,
  "metadata": {
    "colab": {
      "name": "VGG16_LSTM_VF_Final.ipynb",
      "provenance": [],
      "collapsed_sections": []
    },
    "kernelspec": {
      "name": "python3",
      "display_name": "Python 3"
    },
    "accelerator": "GPU"
  },
  "cells": [
    {
      "metadata": {
        "id": "-x-x2hhlOKkl"
      },
      "cell_type": "markdown",
      "source": [
        "# Violence Detection using CNN + LSTM neural network"
      ]
    },
    {
      "metadata": {
        "id": "9fG4ju6NOSIv"
      },
      "cell_type": "markdown",
      "source": [
        "Author: Oai Vu \n",
        "\n",
        "Created: 03/01/2022\n",
        "\n",
        "Last modified: 13/01/2022\n",
        "\n",
        "Some parts of the notebook refer to the one by Pedro.F Rodenas at [Pedro.F Rodenas](https://github.com/pedrofrodenas). A million thanks to him!!!\n",
        "\n",
        "I have modified some Pedro's code and added new code to meet my needs"
      ]
    },
    {
      "metadata": {
        "id": "UVXa7uMnOlkp"
      },
      "cell_type": "markdown",
      "source": [
        "## Imports"
      ]
    },
    {
      "metadata": {
        "id": "oDfDnlliPMd-"
      },
      "cell_type": "code",
      "source": [
        "%matplotlib inline\n",
        "import cv2\n",
        "import os\n",
        "import numpy as np\n",
        "import keras\n",
        "import matplotlib.pyplot as plt\n",
        "from random import shuffle\n",
        "from keras.applications.vgg16 import VGG16\n",
        "from keras import backend as K\n",
        "from keras.models import Model, Sequential\n",
        "from keras.layers import Input\n",
        "from keras.layers import LSTM\n",
        "from keras.layers import Dense, Activation\n",
        "import sys\n",
        "import h5py\n",
        "import shutil\n",
        "import zipfile\n",
        "from sklearn.metrics import classification_report"
      ],
      "execution_count": 1,
      "outputs": []
    },
    {
      "cell_type": "markdown",
      "source": [
        "## Prepare the dataset"
      ],
      "metadata": {
        "id": "HAyUE-SigLrL"
      }
    },
    {
      "cell_type": "markdown",
      "source": [
        "### Download and split the dataset"
      ],
      "metadata": {
        "id": "OKOZ7W_nh86p"
      }
    },
    {
      "cell_type": "markdown",
      "source": [
        "Mount to Google Drive and download the datasets from there. There are three datasets available including Hockey_Fights, Movies_Fights and Violent_Flow. \n",
        "\n",
        "The datasets have already been splitting into training and testing sets of 80% and 20% of them, respectively. The exact video names used for training and testing of each dataset can be found in the .txt files"
      ],
      "metadata": {
        "id": "7gVdttEFgQ3z"
      }
    },
    {
      "cell_type": "code",
      "metadata": {
        "colab": {
          "base_uri": "https://localhost:8080/"
        },
        "id": "SYlK09WLWAwZ",
        "outputId": "6bcad3e2-1ae3-4db4-c695-70c7b252450b"
      },
      "source": [
        "# mount to google drive\n",
        "%cd ..\n",
        "from google.colab import drive\n",
        "drive.mount('/content/gdrive')"
      ],
      "execution_count": 2,
      "outputs": [
        {
          "output_type": "stream",
          "name": "stdout",
          "text": [
            "/\n",
            "Mounted at /content/gdrive\n"
          ]
        }
      ]
    },
    {
      "cell_type": "code",
      "metadata": {
        "id": "nuRUVQIJWWlJ"
      },
      "source": [
        "# this creates a symbolic link so that now the path /content/gdrive/My\\ Drive/ is equal to /mydrive\n",
        "# this is because some commands does not work due to the space of \"My Drive\"\n",
        "!ln -s /content/gdrive/My\\ Drive/ /mydrive"
      ],
      "execution_count": 3,
      "outputs": []
    },
    {
      "cell_type": "code",
      "metadata": {
        "id": "RibaaSd5bT0E"
      },
      "source": [
        "# copy the three splitted datasets Movies_Fights, Hockey_Fights and Violent_Flow into content/\n",
        "%cp /mydrive/AIFinalProject_Group1/SplittedDataset.zip content/"
      ],
      "execution_count": 4,
      "outputs": []
    },
    {
      "cell_type": "code",
      "source": [
        "%ls\n",
        "%cd content/"
      ],
      "metadata": {
        "colab": {
          "base_uri": "https://localhost:8080/"
        },
        "id": "MMVnnG8WzsXj",
        "outputId": "c621e33e-b669-4726-bb0b-e4c8cbf2655c"
      },
      "execution_count": 5,
      "outputs": [
        {
          "output_type": "stream",
          "name": "stdout",
          "text": [
            "\u001b[0m\u001b[01;34mbin\u001b[0m/      \u001b[01;34mdev\u001b[0m/   \u001b[01;34mlib32\u001b[0m/  \u001b[01;36mmydrive\u001b[0m@     \u001b[01;34mroot\u001b[0m/  \u001b[01;34msys\u001b[0m/                \u001b[01;34musr\u001b[0m/\n",
            "\u001b[01;34mboot\u001b[0m/     \u001b[01;34metc\u001b[0m/   \u001b[01;34mlib64\u001b[0m/  \u001b[01;34mopt\u001b[0m/         \u001b[01;34mrun\u001b[0m/   \u001b[01;34mtensorflow-1.15.2\u001b[0m/  \u001b[01;34mvar\u001b[0m/\n",
            "\u001b[01;34mcontent\u001b[0m/  \u001b[01;34mhome\u001b[0m/  \u001b[01;34mmedia\u001b[0m/  \u001b[01;34mproc\u001b[0m/        \u001b[01;34msbin\u001b[0m/  \u001b[30;42mtmp\u001b[0m/\n",
            "\u001b[01;34mdatalab\u001b[0m/  \u001b[01;34mlib\u001b[0m/   \u001b[01;34mmnt\u001b[0m/    \u001b[01;34mpython-apt\u001b[0m/  \u001b[01;34msrv\u001b[0m/   \u001b[01;34mtools\u001b[0m/\n",
            "/content\n"
          ]
        }
      ]
    },
    {
      "cell_type": "code",
      "source": [
        "!unzip SplittedDataset.zip\n",
        "!rm SplittedDataset.zip"
      ],
      "metadata": {
        "colab": {
          "base_uri": "https://localhost:8080/"
        },
        "id": "cAC4tVesc_16",
        "outputId": "43ff98b7-a538-44c8-b530-50b0f4ea0d69"
      },
      "execution_count": 6,
      "outputs": [
        {
          "output_type": "stream",
          "name": "stdout",
          "text": [
            "Archive:  SplittedDataset.zip\n",
            " extracting: hockey_fights.zip       \n",
            " extracting: movies_fights.zip       \n",
            " extracting: violent_flow.zip        \n"
          ]
        }
      ]
    },
    {
      "cell_type": "markdown",
      "source": [
        "### Choose the dataset for use"
      ],
      "metadata": {
        "id": "5tB_xHKviCvi"
      }
    },
    {
      "cell_type": "code",
      "source": [
        "datasets_available = ['hockey_fights', 'movies_fights', 'violent_flow']\n",
        "dataset = datasets_available[2]\n",
        "print(\"Working on \" + dataset + \" dataset\")"
      ],
      "metadata": {
        "colab": {
          "base_uri": "https://localhost:8080/"
        },
        "id": "QER7g1FHiHmR",
        "outputId": "3396724d-6b86-4f4a-eb2d-fedde3c381ec"
      },
      "execution_count": 7,
      "outputs": [
        {
          "output_type": "stream",
          "name": "stdout",
          "text": [
            "Working on violent_flow dataset\n"
          ]
        }
      ]
    },
    {
      "cell_type": "markdown",
      "source": [
        "Define the directory to place the video dataset"
      ],
      "metadata": {
        "id": "aDgQiK9AjMmZ"
      }
    },
    {
      "cell_type": "code",
      "source": [
        "in_dir = 'data'\n",
        "if os.path.isdir(in_dir):\n",
        "  shutil.rmtree(in_dir)\n",
        "os.makedirs(in_dir)"
      ],
      "metadata": {
        "id": "5wk9qhHRjTZA"
      },
      "execution_count": 8,
      "outputs": []
    },
    {
      "cell_type": "markdown",
      "source": [
        "Move the dataset to ``` data/```\n",
        "\n",
        "\n"
      ],
      "metadata": {
        "id": "ql_oaNHUpSFw"
      }
    },
    {
      "cell_type": "code",
      "source": [
        "dataset_path = 'data/'\n",
        "dataset_zip = dataset + '.zip'\n",
        "shutil.copy(dataset_zip, dataset_path)\n",
        "dataset_zip = os.path.join(dataset_path, dataset_zip)"
      ],
      "metadata": {
        "id": "riPPP1vqpXd_"
      },
      "execution_count": 9,
      "outputs": []
    },
    {
      "cell_type": "code",
      "source": [
        "with zipfile.ZipFile(dataset_zip, 'r') as zip_ref:\n",
        "    zip_ref.extractall(dataset_path)\n",
        "os.remove(dataset_zip)"
      ],
      "metadata": {
        "id": "ddWj4gfSxEgz"
      },
      "execution_count": 10,
      "outputs": []
    },
    {
      "cell_type": "markdown",
      "source": [
        "### Get the training and testing sets"
      ],
      "metadata": {
        "id": "0RA4zGBe6R0Z"
      }
    },
    {
      "cell_type": "code",
      "source": [
        "# Get the spliting informaton\n",
        "def getSplittingInfo(setPath):\n",
        "  openedFile = open(setPath, \"r\")\n",
        "  dataSet = openedFile.read().splitlines()\n",
        "  openedFile.close()\n",
        "  return dataSet\n"
      ],
      "metadata": {
        "id": "ZypAF6zUdRDD"
      },
      "execution_count": 11,
      "outputs": []
    },
    {
      "cell_type": "code",
      "source": [
        "# Get the text files of splitting information\n",
        "# Make sure the current working directory is content/\n",
        "train_set_path = dataset_path + dataset + \"_train.txt\"\n",
        "test_set_path = dataset_path + dataset + \"_test.txt\"\n",
        "\n",
        "# Get the train and test sets of video name\n",
        "names_training = getSplittingInfo(train_set_path)\n",
        "names_test = getSplittingInfo(test_set_path)\n",
        "shuffle(names_training)\n",
        "shuffle(names_test)\n",
        "\n",
        "# Get the labels\n",
        "# [1 0] for violece and [0 1] for non-violence\n",
        "labels_training = []\n",
        "labels_test = []\n",
        "\n",
        "for video_name in names_training:\n",
        "  if \"NV\" in video_name:\n",
        "    labels_training.append([0, 1])\n",
        "  else:\n",
        "    labels_training.append([1, 0])\n",
        "\n",
        "for video_name in names_test:\n",
        "  if \"NV\" in video_name:\n",
        "    labels_test.append([0, 1])\n",
        "  else:\n",
        "    labels_test.append([1, 0])\n"
      ],
      "metadata": {
        "id": "jrKs67NJ6noC"
      },
      "execution_count": 12,
      "outputs": []
    },
    {
      "cell_type": "code",
      "source": [
        "training_set = len(names_training)\n",
        "test_set = len(names_test)"
      ],
      "metadata": {
        "id": "XUNkAG6Cfq2R"
      },
      "execution_count": 13,
      "outputs": []
    },
    {
      "metadata": {
        "id": "v6pf1l28PzIO"
      },
      "cell_type": "markdown",
      "source": [
        "## Helper Functions"
      ]
    },
    {
      "metadata": {
        "id": "WKnyJkf8PzxE"
      },
      "cell_type": "markdown",
      "source": [
        "We will use the function ```print_progress``` to print the amount of videos processed"
      ]
    },
    {
      "metadata": {
        "id": "qnafWmS7P3CG"
      },
      "cell_type": "code",
      "source": [
        "def print_progress(count, max_count):\n",
        "    # Percentage completion.\n",
        "    pct_complete = count / max_count\n",
        "\n",
        "    # Status-message. Note the \\r which means the line should\n",
        "    # overwrite itself.\n",
        "    msg = \"\\r- Progress: {0:.1%}\".format(pct_complete)\n",
        "\n",
        "    # Print it.\n",
        "    sys.stdout.write(msg)\n",
        "    sys.stdout.flush()"
      ],
      "execution_count": 14,
      "outputs": []
    },
    {
      "metadata": {
        "id": "UCZHrpJjRKky"
      },
      "cell_type": "markdown",
      "source": [
        "Copy some of the data-dimensions for convenience."
      ]
    },
    {
      "metadata": {
        "id": "SXTNEj6SRLZZ"
      },
      "cell_type": "code",
      "source": [
        "# Frame size  \n",
        "img_size = 224\n",
        "\n",
        "img_size_touple = (img_size, img_size)\n",
        "\n",
        "# Number of channels (RGB)\n",
        "num_channels = 3\n",
        "\n",
        "# Flat frame size\n",
        "img_size_flat = img_size * img_size * num_channels\n",
        "\n",
        "# Number of classes for classification (Violence-No Violence)\n",
        "num_classes = 2\n",
        "\n",
        "# Number of files to train\n",
        "_num_files_train = 1\n",
        "\n",
        "# Number of frames per video\n",
        "_images_per_file = 100\n",
        "\n",
        "# Number of frames per training set\n",
        "_num_images_train = _num_files_train * _images_per_file\n",
        "\n",
        "# Video extension\n",
        "video_exts = \".avi\""
      ],
      "execution_count": 15,
      "outputs": []
    },
    {
      "metadata": {
        "id": "Wodq7EaSRSS8"
      },
      "cell_type": "markdown",
      "source": [
        "### Helper-function for getting video frames\n",
        "Function used to get 100 frames from a video file and convert the frame to a suitable format for the neural net."
      ]
    },
    {
      "metadata": {
        "id": "eu9c4a-3RVkO"
      },
      "cell_type": "code",
      "source": [
        "def get_frames(current_dir, file_name):\n",
        "    \n",
        "    in_file = os.path.join(current_dir, file_name)\n",
        "    \n",
        "    images = []\n",
        "    \n",
        "    vidcap = cv2.VideoCapture(in_file)\n",
        "    \n",
        "    success,image = vidcap.read()\n",
        "        \n",
        "    count = 0\n",
        "    \n",
        "    temp = np.empty(3)\n",
        "\n",
        "    while success and count < 100:\n",
        "                \n",
        "        RGB_img = cv2.cvtColor(image, cv2.COLOR_BGR2RGB)\n",
        "    \n",
        "        res = cv2.resize(RGB_img, dsize=(img_size, img_size),\n",
        "                                 interpolation=cv2.INTER_CUBIC)\n",
        "    \n",
        "        images.append(res)\n",
        "    \n",
        "        success,image = vidcap.read()\n",
        "    \n",
        "        count += 1\n",
        "        temp = res # store the last frame\n",
        "        \n",
        "    while count < 100:\n",
        "      images.append(temp)\n",
        "      count += 1\n",
        "    \n",
        "    resul = np.array(images)\n",
        "    \n",
        "    resul = (resul / 255.).astype(np.float16)\n",
        "        \n",
        "    return resul"
      ],
      "execution_count": 16,
      "outputs": []
    },
    {
      "metadata": {
        "id": "t3KW2kfgReKn"
      },
      "cell_type": "markdown",
      "source": [
        "### Plot a video frame to see if data is correct"
      ]
    },
    {
      "metadata": {
        "id": "EqucOMsJRgqm"
      },
      "cell_type": "markdown",
      "source": [
        "Get a video"
      ]
    },
    {
      "metadata": {
        "id": "xUfZO-0BRj0f",
        "colab": {
          "base_uri": "https://localhost:8080/",
          "height": 35
        },
        "outputId": "f40c74e3-5706-4519-c6e2-16bb1f84f1eb"
      },
      "cell_type": "code",
      "source": [
        "names_training[0]"
      ],
      "execution_count": 17,
      "outputs": [
        {
          "output_type": "execute_result",
          "data": {
            "application/vnd.google.colaboratory.intrinsic+json": {
              "type": "string"
            },
            "text/plain": [
              "'NV (49).avi'"
            ]
          },
          "metadata": {},
          "execution_count": 17
        }
      ]
    },
    {
      "metadata": {
        "id": "ORGJ2pS9RnWw"
      },
      "cell_type": "markdown",
      "source": [
        "The video has violence, look at the name of the video, starts with 'fi'"
      ]
    },
    {
      "metadata": {
        "id": "EqBi8z6rRoMW"
      },
      "cell_type": "code",
      "source": [
        "frames = get_frames(in_dir, names_training[0])"
      ],
      "execution_count": 18,
      "outputs": []
    },
    {
      "metadata": {
        "id": "vtgQEmI6RrmM"
      },
      "cell_type": "markdown",
      "source": [
        "Convert back the frames to uint8 pixel format to plot the frame"
      ]
    },
    {
      "metadata": {
        "id": "9ihSA_ogRsNU"
      },
      "cell_type": "code",
      "source": [
        "visible_frame = (frames*255).astype('uint8')"
      ],
      "execution_count": 19,
      "outputs": []
    },
    {
      "metadata": {
        "id": "PM1kNhaHRvSv",
        "colab": {
          "base_uri": "https://localhost:8080/",
          "height": 286
        },
        "outputId": "ac0ba4a0-161f-405b-89ca-569a9f7f32b7"
      },
      "cell_type": "code",
      "source": [
        "plt.imshow(visible_frame[3])"
      ],
      "execution_count": 20,
      "outputs": [
        {
          "output_type": "execute_result",
          "data": {
            "text/plain": [
              "<matplotlib.image.AxesImage at 0x7f7d9ad00e50>"
            ]
          },
          "metadata": {},
          "execution_count": 20
        },
        {
          "output_type": "display_data",
          "data": {
            "image/png": "[encoded data removed]",
            "text/plain": [
              "<Figure size 432x288 with 1 Axes>"
            ]
          },
          "metadata": {
            "needs_background": "light"
          }
        }
      ]
    },
    {
      "metadata": {
        "id": "_gVWtYPvR8n2",
        "colab": {
          "base_uri": "https://localhost:8080/",
          "height": 286
        },
        "outputId": "80ca110d-d1df-4c25-c239-dd9f05e5ac85"
      },
      "cell_type": "code",
      "source": [
        "plt.imshow(visible_frame[99])"
      ],
      "execution_count": 21,
      "outputs": [
        {
          "output_type": "execute_result",
          "data": {
            "text/plain": [
              "<matplotlib.image.AxesImage at 0x7f7d99ff7f90>"
            ]
          },
          "metadata": {},
          "execution_count": 21
        },
        {
          "output_type": "display_data",
          "data": {
            "image/png": "[encoded data removed]",
            "text/plain": [
              "<Figure size 432x288 with 1 Axes>"
            ]
          },
          "metadata": {
            "needs_background": "light"
          }
        }
      ]
    },
    {
      "metadata": {
        "id": "sF1QieG5SANp"
      },
      "cell_type": "markdown",
      "source": [
        "## Pre-Trained Model: VGG16"
      ]
    },
    {
      "metadata": {
        "id": "0o6FA6slSA1l"
      },
      "cell_type": "markdown",
      "source": [
        "The following creates an instance of the pre-trained VGG16 model using the Keras API. This automatically downloads the required files if you don't have them already.\n",
        "\n",
        "The VGG16 model contains a convolutional part and a fully-connected (or dense) part which is used for classification. If include_top=True then the whole VGG16 model is downloaded which is about 528 MB. If include_top=False then only the convolutional part of the VGG16 model is downloaded which is just 57 MB."
      ]
    },
    {
      "metadata": {
        "id": "MjRN6oE4SC81",
        "colab": {
          "base_uri": "https://localhost:8080/"
        },
        "outputId": "52d6be2d-b52c-4f20-b7f9-55e38173616c"
      },
      "cell_type": "code",
      "source": [
        "image_model = VGG16(include_top=True, weights='imagenet')"
      ],
      "execution_count": 22,
      "outputs": [
        {
          "output_type": "stream",
          "name": "stdout",
          "text": [
            "Downloading data from https://storage.googleapis.com/tensorflow/keras-applications/vgg16/vgg16_weights_tf_dim_ordering_tf_kernels.h5\n",
            "553467904/553467096 [==============================] - 4s 0us/step\n",
            "553476096/553467096 [==============================] - 4s 0us/step\n"
          ]
        }
      ]
    },
    {
      "metadata": {
        "id": "P_7z-y1mSPov"
      },
      "cell_type": "markdown",
      "source": [
        "Let's see the model summary"
      ]
    },
    {
      "metadata": {
        "id": "ud7OU0t7SQPi",
        "colab": {
          "base_uri": "https://localhost:8080/"
        },
        "outputId": "43295147-94ae-4168-a1fa-d197ab3c5652"
      },
      "cell_type": "code",
      "source": [
        "image_model.summary()\n",
        "\n"
      ],
      "execution_count": 23,
      "outputs": [
        {
          "output_type": "stream",
          "name": "stdout",
          "text": [
            "Model: \"vgg16\"\n",
            "_________________________________________________________________\n",
            " Layer (type)                Output Shape              Param #   \n",
            "=================================================================\n",
            " input_1 (InputLayer)        [(None, 224, 224, 3)]     0         \n",
            "                                                                 \n",
            " block1_conv1 (Conv2D)       (None, 224, 224, 64)      1792      \n",
            "                                                                 \n",
            " block1_conv2 (Conv2D)       (None, 224, 224, 64)      36928     \n",
            "                                                                 \n",
            " block1_pool (MaxPooling2D)  (None, 112, 112, 64)      0         \n",
            "                                                                 \n",
            " block2_conv1 (Conv2D)       (None, 112, 112, 128)     73856     \n",
            "                                                                 \n",
            " block2_conv2 (Conv2D)       (None, 112, 112, 128)     147584    \n",
            "                                                                 \n",
            " block2_pool (MaxPooling2D)  (None, 56, 56, 128)       0         \n",
            "                                                                 \n",
            " block3_conv1 (Conv2D)       (None, 56, 56, 256)       295168    \n",
            "                                                                 \n",
            " block3_conv2 (Conv2D)       (None, 56, 56, 256)       590080    \n",
            "                                                                 \n",
            " block3_conv3 (Conv2D)       (None, 56, 56, 256)       590080    \n",
            "                                                                 \n",
            " block3_pool (MaxPooling2D)  (None, 28, 28, 256)       0         \n",
            "                                                                 \n",
            " block4_conv1 (Conv2D)       (None, 28, 28, 512)       1180160   \n",
            "                                                                 \n",
            " block4_conv2 (Conv2D)       (None, 28, 28, 512)       2359808   \n",
            "                                                                 \n",
            " block4_conv3 (Conv2D)       (None, 28, 28, 512)       2359808   \n",
            "                                                                 \n",
            " block4_pool (MaxPooling2D)  (None, 14, 14, 512)       0         \n",
            "                                                                 \n",
            " block5_conv1 (Conv2D)       (None, 14, 14, 512)       2359808   \n",
            "                                                                 \n",
            " block5_conv2 (Conv2D)       (None, 14, 14, 512)       2359808   \n",
            "                                                                 \n",
            " block5_conv3 (Conv2D)       (None, 14, 14, 512)       2359808   \n",
            "                                                                 \n",
            " block5_pool (MaxPooling2D)  (None, 7, 7, 512)         0         \n",
            "                                                                 \n",
            " flatten (Flatten)           (None, 25088)             0         \n",
            "                                                                 \n",
            " fc1 (Dense)                 (None, 4096)              102764544 \n",
            "                                                                 \n",
            " fc2 (Dense)                 (None, 4096)              16781312  \n",
            "                                                                 \n",
            " predictions (Dense)         (None, 1000)              4097000   \n",
            "                                                                 \n",
            "=================================================================\n",
            "Total params: 138,357,544\n",
            "Trainable params: 138,357,544\n",
            "Non-trainable params: 0\n",
            "_________________________________________________________________\n"
          ]
        }
      ]
    },
    {
      "metadata": {
        "id": "-NxnGLlDSTwr"
      },
      "cell_type": "markdown",
      "source": [
        "We can observe the shape of the tensors expected as input by the pre-trained VGG16 model. In this case it is images of shape 224 x 224 x 3. Note that we have defined the frame size as 224x224x3. The video frame will be the input of the VGG16 net."
      ]
    },
    {
      "metadata": {
        "id": "9a0k89M5SUjP",
        "colab": {
          "base_uri": "https://localhost:8080/"
        },
        "outputId": "e9b4d53e-ddec-414d-ce28-4863ec444eea"
      },
      "cell_type": "code",
      "source": [
        "input_shape = image_model.layers[0].output_shape[1:3]\n",
        "print(input_shape)"
      ],
      "execution_count": 24,
      "outputs": [
        {
          "output_type": "stream",
          "name": "stdout",
          "text": [
            "[]\n"
          ]
        }
      ]
    },
    {
      "metadata": {
        "id": "kMR6iqg4SaOl"
      },
      "cell_type": "markdown",
      "source": [
        "### VGG16 model flowchart"
      ]
    },
    {
      "metadata": {
        "id": "qFUDqTiBSa0H"
      },
      "cell_type": "markdown",
      "source": [
        "The following chart shows how the data flows when using the VGG16 model for Transfer Learning. First we input and process 100 video frames in batch with the VGG16 model. Just prior to the final classification layer of the VGG16 model, we save the so-called Transfer Values to a cache-file.\n",
        "\n",
        "The reason for using a cache-file is that it takes a long time to process an image with the VGG16 model. If each image is processed more than once then we can save a lot of time by caching the transfer-values.\n",
        "\n",
        "When all the videos have been processed through the VGG16 model and the resulting transfer-values saved to a cache file, then we can use those transfer-values as the input to LSTM neural network. We will then train the second neural network using the classes from the violence dataset (Violence, No-Violence), so the network learns how to classify images based on the transfer-values from the VGG16 model."
      ]
    },
    {
      "metadata": {
        "id": "4YWFA-2tSdfB",
        "colab": {
          "base_uri": "https://localhost:8080/"
        },
        "outputId": "32834106-9c11-44f3-9f73-d0e8b7b316a3"
      },
      "cell_type": "code",
      "source": [
        "# We will use the output of the layer prior to the final\n",
        "# classification-layer which is named fc2. This is a fully-connected (or dense) layer.\n",
        "transfer_layer = image_model.get_layer('fc2')\n",
        "\n",
        "image_model_transfer = Model(inputs=image_model.input,\n",
        "                             outputs=transfer_layer.output)\n",
        "\n",
        "transfer_values_size = K.int_shape(transfer_layer.output)[1]\n",
        "\n",
        "\n",
        "print(\"The input of the VGG16 net have dimensions:\",K.int_shape(image_model.input)[1:3])\n",
        "\n",
        "print(\"The output of the selecter layer of VGG16 net have dimensions: \", transfer_values_size)"
      ],
      "execution_count": 25,
      "outputs": [
        {
          "output_type": "stream",
          "name": "stdout",
          "text": [
            "The input of the VGG16 net have dimensions: (224, 224)\n",
            "The output of the selecter layer of VGG16 net have dimensions:  4096\n"
          ]
        }
      ]
    },
    {
      "metadata": {
        "id": "1ghum6s2Si1n"
      },
      "cell_type": "markdown",
      "source": [
        "### Function to process 100 video frames through VGG16 and get transfer values"
      ]
    },
    {
      "metadata": {
        "id": "-AdxYAtiSlLF"
      },
      "cell_type": "code",
      "source": [
        "def get_transfer_values(current_dir, file_name):\n",
        "    \n",
        "    # Pre-allocate input-batch-array for images.\n",
        "    shape = (_images_per_file,) + img_size_touple + (3,)\n",
        "    \n",
        "    image_batch = np.zeros(shape=shape, dtype=np.float16)\n",
        "    \n",
        "    image_batch = get_frames(current_dir, file_name)\n",
        "      \n",
        "    # Pre-allocate output-array for transfer-values.\n",
        "    # Note that we use 16-bit floating-points to save memory.\n",
        "    shape = (_images_per_file, transfer_values_size)\n",
        "    transfer_values = np.zeros(shape=shape, dtype=np.float16)\n",
        "\n",
        "    transfer_values = \\\n",
        "            image_model_transfer.predict(image_batch)\n",
        "            \n",
        "    return transfer_values"
      ],
      "execution_count": 26,
      "outputs": []
    },
    {
      "metadata": {
        "id": "HGdRIG6oSooG"
      },
      "cell_type": "markdown",
      "source": [
        "### Generator that process one video through VGG16 each function call"
      ]
    },
    {
      "metadata": {
        "id": "D2BvaY3eSpSH"
      },
      "cell_type": "code",
      "source": [
        "def proces_transfer(vid_names, in_dir, labels):\n",
        "    \n",
        "    count = 0\n",
        "    \n",
        "    tam = len(vid_names)\n",
        "    \n",
        "    # Pre-allocate input-batch-array for images.\n",
        "    shape = (_images_per_file,) + img_size_touple + (3,)\n",
        "    \n",
        "    while count<tam:\n",
        "        \n",
        "        video_name = vid_names[count]\n",
        "        \n",
        "        image_batch = np.zeros(shape=shape, dtype=np.float16)\n",
        "    \n",
        "        image_batch = get_frames(in_dir, video_name)\n",
        "        \n",
        "         # Note that we use 16-bit floating-points to save memory.\n",
        "        shape = (_images_per_file, transfer_values_size)\n",
        "        transfer_values = np.zeros(shape=shape, dtype=np.float16)\n",
        "        \n",
        "        transfer_values = \\\n",
        "            image_model_transfer.predict(image_batch)\n",
        "         \n",
        "        labels1 = labels[count]\n",
        "        \n",
        "        aux = np.ones([100,2])\n",
        "        \n",
        "        labelss = labels1*aux\n",
        "        \n",
        "        yield transfer_values, labelss\n",
        "        \n",
        "        count+=1"
      ],
      "execution_count": 27,
      "outputs": []
    },
    {
      "metadata": {
        "id": "I-Cnv0fRSswF"
      },
      "cell_type": "markdown",
      "source": [
        "### Functions to save transfer values from VGG16 to later use\n",
        "We are going to define functions to get the transfer values from VGG16 with defined number of files. Then save the transfer values files used from training in one file and the ones uses for testing in another one. "
      ]
    },
    {
      "metadata": {
        "id": "tvU53ypSSvL0"
      },
      "cell_type": "code",
      "source": [
        "def make_files(n_files):\n",
        "    \n",
        "    gen = proces_transfer(names_training, in_dir, labels_training)\n",
        "\n",
        "    numer = 1\n",
        "\n",
        "    # Read the first chunk to get the column dtypes\n",
        "    chunk = next(gen)\n",
        "\n",
        "    row_count = chunk[0].shape[0]\n",
        "    row_count2 = chunk[1].shape[0]\n",
        "    \n",
        "    with h5py.File('prueba.h5', 'w') as f:\n",
        "    \n",
        "        # Initialize a resizable dataset to hold the output\n",
        "        maxshape = (None,) + chunk[0].shape[1:]\n",
        "        maxshape2 = (None,) + chunk[1].shape[1:]\n",
        "    \n",
        "    \n",
        "        dset = f.create_dataset('data', shape=chunk[0].shape, maxshape=maxshape,\n",
        "                                chunks=chunk[0].shape, dtype=chunk[0].dtype)\n",
        "    \n",
        "        dset2 = f.create_dataset('labels', shape=chunk[1].shape, maxshape=maxshape2,\n",
        "                                 chunks=chunk[1].shape, dtype=chunk[1].dtype)\n",
        "    \n",
        "         # Write the first chunk of rows\n",
        "        dset[:] = chunk[0]\n",
        "        dset2[:] = chunk[1]\n",
        "\n",
        "        for chunk in gen:\n",
        "            \n",
        "            if numer == n_files:\n",
        "            \n",
        "                break\n",
        "\n",
        "            # Resize the dataset to accommodate the next chunk of rows\n",
        "            dset.resize(row_count + chunk[0].shape[0], axis=0)\n",
        "            dset2.resize(row_count2 + chunk[1].shape[0], axis=0)\n",
        "\n",
        "            # Write the next chunk\n",
        "            dset[row_count:] = chunk[0]\n",
        "            dset2[row_count:] = chunk[1]\n",
        "\n",
        "            # Increment the row count\n",
        "            row_count += chunk[0].shape[0]\n",
        "            row_count2 += chunk[1].shape[0]\n",
        "            \n",
        "            print_progress(numer, n_files)\n",
        "        \n",
        "            numer += 1"
      ],
      "execution_count": 28,
      "outputs": []
    },
    {
      "metadata": {
        "id": "8nK8uFExS0nX"
      },
      "cell_type": "code",
      "source": [
        "def make_files_test(n_files):\n",
        "    \n",
        "    gen = proces_transfer(names_test, in_dir, labels_test)\n",
        "\n",
        "    numer = 1\n",
        "\n",
        "    # Read the first chunk to get the column dtypes\n",
        "    chunk = next(gen)\n",
        "\n",
        "    row_count = chunk[0].shape[0]\n",
        "    row_count2 = chunk[1].shape[0]\n",
        "    \n",
        "    with h5py.File('pruebavalidation.h5', 'w') as f:\n",
        "    \n",
        "        # Initialize a resizable dataset to hold the output\n",
        "        maxshape = (None,) + chunk[0].shape[1:]\n",
        "        maxshape2 = (None,) + chunk[1].shape[1:]\n",
        "    \n",
        "    \n",
        "        dset = f.create_dataset('data', shape=chunk[0].shape, maxshape=maxshape,\n",
        "                                chunks=chunk[0].shape, dtype=chunk[0].dtype)\n",
        "    \n",
        "        dset2 = f.create_dataset('labels', shape=chunk[1].shape, maxshape=maxshape2,\n",
        "                                 chunks=chunk[1].shape, dtype=chunk[1].dtype)\n",
        "    \n",
        "         # Write the first chunk of rows\n",
        "        dset[:] = chunk[0]\n",
        "        dset2[:] = chunk[1]\n",
        "\n",
        "        for chunk in gen:\n",
        "            \n",
        "            if numer == n_files:\n",
        "            \n",
        "                break\n",
        "\n",
        "            # Resize the dataset to accommodate the next chunk of rows\n",
        "            dset.resize(row_count + chunk[0].shape[0], axis=0)\n",
        "            dset2.resize(row_count2 + chunk[1].shape[0], axis=0)\n",
        "\n",
        "            # Write the next chunk\n",
        "            dset[row_count:] = chunk[0]\n",
        "            dset2[row_count:] = chunk[1]\n",
        "\n",
        "            # Increment the row count\n",
        "            row_count += chunk[0].shape[0]\n",
        "            row_count2 += chunk[1].shape[0]\n",
        "            \n",
        "            print_progress(numer, n_files)\n",
        "        \n",
        "            numer += 1"
      ],
      "execution_count": 29,
      "outputs": []
    },
    {
      "metadata": {
        "id": "xmiJi6G7TBnI"
      },
      "cell_type": "markdown",
      "source": [
        "Then we are going to process all video frames through VGG16 and save the transfer values."
      ]
    },
    {
      "metadata": {
        "id": "pyO9WP-6TER4",
        "colab": {
          "base_uri": "https://localhost:8080/"
        },
        "outputId": "5faf6987-9999-40c9-8c0f-86b6140333ed"
      },
      "cell_type": "code",
      "source": [
        "make_files(training_set)"
      ],
      "execution_count": 30,
      "outputs": [
        {
          "output_type": "stream",
          "name": "stdout",
          "text": [
            "- Progress: 99.5%"
          ]
        }
      ]
    },
    {
      "metadata": {
        "id": "0ThoefXUXPrS",
        "colab": {
          "base_uri": "https://localhost:8080/"
        },
        "outputId": "59661782-e2bf-48e4-95b2-4a24ef55f9df"
      },
      "cell_type": "code",
      "source": [
        "make_files_test(test_set)"
      ],
      "execution_count": 31,
      "outputs": [
        {
          "output_type": "stream",
          "name": "stdout",
          "text": [
            "- Progress: 98.0%"
          ]
        }
      ]
    },
    {
      "cell_type": "markdown",
      "source": [
        "Save the transfer values to Drive for later uses\n"
      ],
      "metadata": {
        "id": "baejztc3mYDs"
      }
    },
    {
      "cell_type": "code",
      "source": [
        "drive_save_path = os.path.join('/mydrive/AIFinalProject_Group1/', dataset)\n",
        "shutil.copy('prueba.h5', drive_save_path)\n",
        "shutil.copy('pruebavalidation.h5', drive_save_path)"
      ],
      "metadata": {
        "colab": {
          "base_uri": "https://localhost:8080/",
          "height": 35
        },
        "id": "ZfohhiWzmc5U",
        "outputId": "342154dc-0247-469e-de4f-e69a98fb1fc0"
      },
      "execution_count": 32,
      "outputs": [
        {
          "output_type": "execute_result",
          "data": {
            "application/vnd.google.colaboratory.intrinsic+json": {
              "type": "string"
            },
            "text/plain": [
              "'/mydrive/AIFinalProject_Group1/violent_flow/pruebavalidation.h5'"
            ]
          },
          "metadata": {},
          "execution_count": 32
        }
      ]
    },
    {
      "metadata": {
        "id": "0s2imcRixMAr"
      },
      "cell_type": "markdown",
      "source": [
        "### Load the cached transfer values into memory\n",
        "We have already saved all the videos transfer values into disk. But we have to load those transfer values into memory in order to train the LSTM net. One question would be: why not process transfer values and load them into RAM memory? Yes is a more eficient way to train the second net. But if you have to train the LSTM in different ways in order to see which way gets the best accuracy, if you didn't save the transfer values into disk you would have to process the whole videos each training. It's very time consuming processing the videos through VGG16 net. \n"
      ]
    },
    {
      "metadata": {
        "id": "RnK1JL-izzeS"
      },
      "cell_type": "markdown",
      "source": [
        "In order to load the saved transfer values into RAM memory we are going to use this two functions:"
      ]
    },
    {
      "metadata": {
        "id": "Ez0blP2z0CsF"
      },
      "cell_type": "code",
      "source": [
        "def process_alldata_training():\n",
        "    \n",
        "    joint_transfer=[]\n",
        "    frames_num=100\n",
        "    count = 0\n",
        "    \n",
        "    with h5py.File('prueba.h5', 'r') as f:\n",
        "            \n",
        "        X_batch = f['data'][:]\n",
        "        y_batch = f['labels'][:]\n",
        "\n",
        "    for i in range(int(len(X_batch)/frames_num)):\n",
        "        inc = count+frames_num\n",
        "        joint_transfer.append([X_batch[count:inc],y_batch[count]])\n",
        "        count =inc\n",
        "        \n",
        "    data =[]\n",
        "    target=[]\n",
        "    \n",
        "    for i in joint_transfer:\n",
        "        data.append(i[0])\n",
        "        target.append(np.array(i[1]))\n",
        "        \n",
        "    return data, target"
      ],
      "execution_count": 33,
      "outputs": []
    },
    {
      "metadata": {
        "id": "Dne2XaQ90MGk"
      },
      "cell_type": "code",
      "source": [
        "def process_alldata_test():\n",
        "    \n",
        "    joint_transfer=[]\n",
        "    frames_num=100\n",
        "    count = 0\n",
        "    \n",
        "    with h5py.File('pruebavalidation.h5', 'r') as f:\n",
        "            \n",
        "        X_batch = f['data'][:]\n",
        "        y_batch = f['labels'][:]\n",
        "\n",
        "    for i in range(int(len(X_batch)/frames_num)):\n",
        "        inc = count+frames_num\n",
        "        joint_transfer.append([X_batch[count:inc],y_batch[count]])\n",
        "        count =inc\n",
        "        \n",
        "    data =[]\n",
        "    target=[]\n",
        "    \n",
        "    for i in joint_transfer:\n",
        "        data.append(i[0])\n",
        "        target.append(np.array(i[1]))\n",
        "        \n",
        "    return data, target"
      ],
      "execution_count": 34,
      "outputs": []
    },
    {
      "metadata": {
        "id": "phyhoYc67VW8"
      },
      "cell_type": "code",
      "source": [
        "data, target = process_alldata_training()"
      ],
      "execution_count": 35,
      "outputs": []
    },
    {
      "metadata": {
        "id": "dJpXHvEg7Xhc"
      },
      "cell_type": "code",
      "source": [
        "data_test, target_test = process_alldata_test()"
      ],
      "execution_count": 36,
      "outputs": []
    },
    {
      "metadata": {
        "id": "Qjaawyqj0arq"
      },
      "cell_type": "markdown",
      "source": [
        "##Recurrent Neural Network"
      ]
    },
    {
      "metadata": {
        "id": "dXFhxfzE0hGb"
      },
      "cell_type": "markdown",
      "source": [
        "The basic building block in a Recurrent Neural Network (RNN) is a Recurrent Unit (RU). There are many different variants of recurrent units such as the rather clunky LSTM (Long-Short-Term-Memory) and the somewhat simpler GRU (Gated Recurrent Unit) which we will use in this tutorial. Experiments in the literature suggest that the LSTM and GRU have roughly similar performance. Even simpler variants also exist and the literature suggests that they may perform even better than both LSTM and GRU, but they are not implemented in Keras which we will use in this tutorial.\n",
        "\n",
        "A recurrent neuron has an internal state that is being updated every time the unit receives a new input. This internal state serves as a kind of memory. However, it is not a traditional kind of computer memory which stores bits that are either on or off. Instead the recurrent unit stores floating-point values in its memory-state, which are read and written using matrix-operations so the operations are all differentiable. This means the memory-state can store arbitrary floating-point values (although typically limited between -1.0 and 1.0) and the network can be trained like a normal neural network using Gradient Descent.\n",
        "\n"
      ]
    },
    {
      "cell_type": "code",
      "source": [
        ""
      ],
      "metadata": {
        "id": "bK-1URVXtkj-"
      },
      "execution_count": 36,
      "outputs": []
    },
    {
      "metadata": {
        "id": "BsIrL3ix4Edp"
      },
      "cell_type": "markdown",
      "source": [
        "### Define LSTM architecture"
      ]
    },
    {
      "metadata": {
        "id": "qFiSjMaC4Q1c"
      },
      "cell_type": "markdown",
      "source": [
        "When defining the LSTM architecture we have to take into account the dimensions of the transfer values. From each frame the VGG16 network obtains as output a vector of 4096 transfer values. From each video we are processing 100 frames so we will have 100 x 4096 values per video. The classification must be done taking into account the 100 frames of the video. If any of them detects violence, the video will be classified as violent.\n"
      ]
    },
    {
      "metadata": {
        "id": "HAgSUeVu58N_"
      },
      "cell_type": "markdown",
      "source": [
        "The first input dimension of LSTM neurons is the temporal dimension, in our case it is 100. The second is the size of the features vector (transfer values).\n"
      ]
    },
    {
      "metadata": {
        "id": "XWABZ91b6f7l"
      },
      "cell_type": "code",
      "source": [
        "chunk_size = 4096\n",
        "n_chunks = 100\n",
        "rnn_size = 512\n",
        "\n",
        "model = Sequential()\n",
        "model.add(LSTM(rnn_size, input_shape=(n_chunks, chunk_size)))\n",
        "model.add(Dense(1024))\n",
        "model.add(Activation('relu'))\n",
        "model.add(Dense(50))\n",
        "model.add(Activation('sigmoid'))\n",
        "model.add(Dense(2))\n",
        "model.add(Activation('softmax'))\n",
        "model.compile(loss='mean_squared_error', optimizer='adam',metrics=['Accuracy'])"
      ],
      "execution_count": 37,
      "outputs": []
    },
    {
      "metadata": {
        "id": "bVonOPYW7F_b"
      },
      "cell_type": "markdown",
      "source": [
        "## Model training\n"
      ]
    },
    {
      "metadata": {
        "id": "iRZlW4ZV_ygS",
        "colab": {
          "base_uri": "https://localhost:8080/"
        },
        "outputId": "ed201ed3-b7a7-435a-ec2b-4949ca308d98"
      },
      "cell_type": "code",
      "source": [
        "epoch = 200\n",
        "batchS = 500\n",
        "\n",
        "history = model.fit(np.array(data[0:750]), np.array(target[0:750]), epochs=epoch,\n",
        "                    validation_data=(np.array(data[750:]), np.array(target[750:])), \n",
        "                    batch_size=batchS, verbose=2)"
      ],
      "execution_count": 38,
      "outputs": [
        {
          "output_type": "stream",
          "name": "stdout",
          "text": [
            "Epoch 1/200\n",
            "1/1 - 4s - loss: 0.3112 - Accuracy: 0.5000 - 4s/epoch - 4s/step\n",
            "Epoch 2/200\n",
            "1/1 - 1s - loss: 0.3920 - Accuracy: 0.5000 - 799ms/epoch - 799ms/step\n",
            "Epoch 3/200\n",
            "1/1 - 1s - loss: 0.2963 - Accuracy: 0.5000 - 906ms/epoch - 906ms/step\n",
            "Epoch 4/200\n",
            "1/1 - 1s - loss: 0.2675 - Accuracy: 0.5000 - 881ms/epoch - 881ms/step\n",
            "Epoch 5/200\n",
            "1/1 - 1s - loss: 0.2714 - Accuracy: 0.5000 - 861ms/epoch - 861ms/step\n",
            "Epoch 6/200\n",
            "1/1 - 1s - loss: 0.2498 - Accuracy: 0.5000 - 812ms/epoch - 812ms/step\n",
            "Epoch 7/200\n",
            "1/1 - 1s - loss: 0.2504 - Accuracy: 0.5000 - 847ms/epoch - 847ms/step\n",
            "Epoch 8/200\n",
            "1/1 - 1s - loss: 0.2568 - Accuracy: 0.5000 - 845ms/epoch - 845ms/step\n",
            "Epoch 9/200\n",
            "1/1 - 1s - loss: 0.2524 - Accuracy: 0.5000 - 869ms/epoch - 869ms/step\n",
            "Epoch 10/200\n",
            "1/1 - 1s - loss: 0.2469 - Accuracy: 0.5000 - 843ms/epoch - 843ms/step\n",
            "Epoch 11/200\n",
            "1/1 - 1s - loss: 0.2468 - Accuracy: 0.5000 - 866ms/epoch - 866ms/step\n",
            "Epoch 12/200\n",
            "1/1 - 1s - loss: 0.2489 - Accuracy: 0.5000 - 848ms/epoch - 848ms/step\n",
            "Epoch 13/200\n",
            "1/1 - 1s - loss: 0.2479 - Accuracy: 0.5000 - 862ms/epoch - 862ms/step\n",
            "Epoch 14/200\n",
            "1/1 - 1s - loss: 0.2442 - Accuracy: 0.5000 - 847ms/epoch - 847ms/step\n",
            "Epoch 15/200\n",
            "1/1 - 1s - loss: 0.2415 - Accuracy: 0.7602 - 867ms/epoch - 867ms/step\n",
            "Epoch 16/200\n",
            "1/1 - 1s - loss: 0.2408 - Accuracy: 0.5051 - 836ms/epoch - 836ms/step\n",
            "Epoch 17/200\n",
            "1/1 - 1s - loss: 0.2387 - Accuracy: 0.5102 - 852ms/epoch - 852ms/step\n",
            "Epoch 18/200\n",
            "1/1 - 1s - loss: 0.2345 - Accuracy: 0.6939 - 855ms/epoch - 855ms/step\n",
            "Epoch 19/200\n",
            "1/1 - 1s - loss: 0.2315 - Accuracy: 0.7959 - 852ms/epoch - 852ms/step\n",
            "Epoch 20/200\n",
            "1/1 - 1s - loss: 0.2284 - Accuracy: 0.7194 - 835ms/epoch - 835ms/step\n",
            "Epoch 21/200\n",
            "1/1 - 1s - loss: 0.2216 - Accuracy: 0.8061 - 851ms/epoch - 851ms/step\n",
            "Epoch 22/200\n",
            "1/1 - 1s - loss: 0.2151 - Accuracy: 0.7704 - 847ms/epoch - 847ms/step\n",
            "Epoch 23/200\n",
            "1/1 - 1s - loss: 0.2082 - Accuracy: 0.7602 - 868ms/epoch - 868ms/step\n",
            "Epoch 24/200\n",
            "1/1 - 1s - loss: 0.1985 - Accuracy: 0.8265 - 832ms/epoch - 832ms/step\n",
            "Epoch 25/200\n",
            "1/1 - 1s - loss: 0.1898 - Accuracy: 0.8214 - 862ms/epoch - 862ms/step\n",
            "Epoch 26/200\n",
            "1/1 - 1s - loss: 0.1780 - Accuracy: 0.8061 - 837ms/epoch - 837ms/step\n",
            "Epoch 27/200\n",
            "1/1 - 1s - loss: 0.1673 - Accuracy: 0.8010 - 853ms/epoch - 853ms/step\n",
            "Epoch 28/200\n",
            "1/1 - 1s - loss: 0.1577 - Accuracy: 0.8367 - 850ms/epoch - 850ms/step\n",
            "Epoch 29/200\n",
            "1/1 - 1s - loss: 0.1465 - Accuracy: 0.8112 - 859ms/epoch - 859ms/step\n",
            "Epoch 30/200\n",
            "1/1 - 1s - loss: 0.1351 - Accuracy: 0.8316 - 841ms/epoch - 841ms/step\n",
            "Epoch 31/200\n",
            "1/1 - 1s - loss: 0.1254 - Accuracy: 0.8469 - 860ms/epoch - 860ms/step\n",
            "Epoch 32/200\n",
            "1/1 - 1s - loss: 0.1175 - Accuracy: 0.8469 - 837ms/epoch - 837ms/step\n",
            "Epoch 33/200\n",
            "1/1 - 1s - loss: 0.1133 - Accuracy: 0.8622 - 862ms/epoch - 862ms/step\n",
            "Epoch 34/200\n",
            "1/1 - 1s - loss: 0.1230 - Accuracy: 0.8214 - 852ms/epoch - 852ms/step\n",
            "Epoch 35/200\n",
            "1/1 - 1s - loss: 0.1163 - Accuracy: 0.8367 - 857ms/epoch - 857ms/step\n",
            "Epoch 36/200\n",
            "1/1 - 1s - loss: 0.0958 - Accuracy: 0.8776 - 841ms/epoch - 841ms/step\n",
            "Epoch 37/200\n",
            "1/1 - 1s - loss: 0.1119 - Accuracy: 0.8316 - 859ms/epoch - 859ms/step\n",
            "Epoch 38/200\n",
            "1/1 - 1s - loss: 0.0915 - Accuracy: 0.8878 - 843ms/epoch - 843ms/step\n",
            "Epoch 39/200\n",
            "1/1 - 1s - loss: 0.0992 - Accuracy: 0.8827 - 841ms/epoch - 841ms/step\n",
            "Epoch 40/200\n",
            "1/1 - 1s - loss: 0.0889 - Accuracy: 0.8622 - 862ms/epoch - 862ms/step\n",
            "Epoch 41/200\n",
            "1/1 - 1s - loss: 0.0883 - Accuracy: 0.8776 - 866ms/epoch - 866ms/step\n",
            "Epoch 42/200\n",
            "1/1 - 1s - loss: 0.0888 - Accuracy: 0.8929 - 836ms/epoch - 836ms/step\n",
            "Epoch 43/200\n",
            "1/1 - 1s - loss: 0.0813 - Accuracy: 0.8980 - 861ms/epoch - 861ms/step\n",
            "Epoch 44/200\n",
            "1/1 - 1s - loss: 0.0876 - Accuracy: 0.8724 - 830ms/epoch - 830ms/step\n",
            "Epoch 45/200\n",
            "1/1 - 1s - loss: 0.0760 - Accuracy: 0.9031 - 864ms/epoch - 864ms/step\n",
            "Epoch 46/200\n",
            "1/1 - 1s - loss: 0.0829 - Accuracy: 0.8929 - 854ms/epoch - 854ms/step\n",
            "Epoch 47/200\n",
            "1/1 - 1s - loss: 0.0740 - Accuracy: 0.9031 - 863ms/epoch - 863ms/step\n",
            "Epoch 48/200\n",
            "1/1 - 1s - loss: 0.0784 - Accuracy: 0.9031 - 843ms/epoch - 843ms/step\n",
            "Epoch 49/200\n",
            "1/1 - 1s - loss: 0.0734 - Accuracy: 0.9082 - 858ms/epoch - 858ms/step\n",
            "Epoch 50/200\n",
            "1/1 - 1s - loss: 0.0734 - Accuracy: 0.9082 - 843ms/epoch - 843ms/step\n",
            "Epoch 51/200\n",
            "1/1 - 1s - loss: 0.0724 - Accuracy: 0.9031 - 861ms/epoch - 861ms/step\n",
            "Epoch 52/200\n",
            "1/1 - 1s - loss: 0.0689 - Accuracy: 0.9082 - 808ms/epoch - 808ms/step\n",
            "Epoch 53/200\n",
            "1/1 - 1s - loss: 0.0707 - Accuracy: 0.9082 - 856ms/epoch - 856ms/step\n",
            "Epoch 54/200\n",
            "1/1 - 1s - loss: 0.0657 - Accuracy: 0.9235 - 843ms/epoch - 843ms/step\n",
            "Epoch 55/200\n",
            "1/1 - 1s - loss: 0.0680 - Accuracy: 0.9082 - 859ms/epoch - 859ms/step\n",
            "Epoch 56/200\n",
            "1/1 - 1s - loss: 0.0637 - Accuracy: 0.9235 - 836ms/epoch - 836ms/step\n",
            "Epoch 57/200\n",
            "1/1 - 1s - loss: 0.0642 - Accuracy: 0.9235 - 860ms/epoch - 860ms/step\n",
            "Epoch 58/200\n",
            "1/1 - 1s - loss: 0.0622 - Accuracy: 0.9184 - 853ms/epoch - 853ms/step\n",
            "Epoch 59/200\n",
            "1/1 - 1s - loss: 0.0603 - Accuracy: 0.9235 - 868ms/epoch - 868ms/step\n",
            "Epoch 60/200\n",
            "1/1 - 1s - loss: 0.0607 - Accuracy: 0.9235 - 843ms/epoch - 843ms/step\n",
            "Epoch 61/200\n",
            "1/1 - 1s - loss: 0.0574 - Accuracy: 0.9235 - 869ms/epoch - 869ms/step\n",
            "Epoch 62/200\n",
            "1/1 - 1s - loss: 0.0582 - Accuracy: 0.9337 - 838ms/epoch - 838ms/step\n",
            "Epoch 63/200\n",
            "1/1 - 1s - loss: 0.0564 - Accuracy: 0.9235 - 852ms/epoch - 852ms/step\n",
            "Epoch 64/200\n",
            "1/1 - 1s - loss: 0.0540 - Accuracy: 0.9184 - 844ms/epoch - 844ms/step\n",
            "Epoch 65/200\n",
            "1/1 - 1s - loss: 0.0551 - Accuracy: 0.9388 - 856ms/epoch - 856ms/step\n",
            "Epoch 66/200\n",
            "1/1 - 1s - loss: 0.0532 - Accuracy: 0.9235 - 846ms/epoch - 846ms/step\n",
            "Epoch 67/200\n",
            "1/1 - 1s - loss: 0.0502 - Accuracy: 0.9388 - 870ms/epoch - 870ms/step\n",
            "Epoch 68/200\n",
            "1/1 - 1s - loss: 0.0519 - Accuracy: 0.9388 - 833ms/epoch - 833ms/step\n",
            "Epoch 69/200\n",
            "1/1 - 1s - loss: 0.0525 - Accuracy: 0.9286 - 861ms/epoch - 861ms/step\n",
            "Epoch 70/200\n",
            "1/1 - 1s - loss: 0.0467 - Accuracy: 0.9337 - 839ms/epoch - 839ms/step\n",
            "Epoch 71/200\n",
            "1/1 - 1s - loss: 0.0476 - Accuracy: 0.9541 - 863ms/epoch - 863ms/step\n",
            "Epoch 72/200\n",
            "1/1 - 1s - loss: 0.0524 - Accuracy: 0.9337 - 834ms/epoch - 834ms/step\n",
            "Epoch 73/200\n",
            "1/1 - 1s - loss: 0.0450 - Accuracy: 0.9592 - 849ms/epoch - 849ms/step\n",
            "Epoch 74/200\n",
            "1/1 - 1s - loss: 0.0418 - Accuracy: 0.9490 - 831ms/epoch - 831ms/step\n",
            "Epoch 75/200\n",
            "1/1 - 1s - loss: 0.0432 - Accuracy: 0.9388 - 853ms/epoch - 853ms/step\n",
            "Epoch 76/200\n",
            "1/1 - 1s - loss: 0.0436 - Accuracy: 0.9490 - 837ms/epoch - 837ms/step\n",
            "Epoch 77/200\n",
            "1/1 - 1s - loss: 0.0448 - Accuracy: 0.9439 - 858ms/epoch - 858ms/step\n",
            "Epoch 78/200\n",
            "1/1 - 1s - loss: 0.0387 - Accuracy: 0.9694 - 843ms/epoch - 843ms/step\n",
            "Epoch 79/200\n",
            "1/1 - 1s - loss: 0.0362 - Accuracy: 0.9592 - 857ms/epoch - 857ms/step\n",
            "Epoch 80/200\n",
            "1/1 - 1s - loss: 0.0372 - Accuracy: 0.9490 - 849ms/epoch - 849ms/step\n",
            "Epoch 81/200\n",
            "1/1 - 1s - loss: 0.0415 - Accuracy: 0.9490 - 862ms/epoch - 862ms/step\n",
            "Epoch 82/200\n",
            "1/1 - 1s - loss: 0.0554 - Accuracy: 0.9337 - 835ms/epoch - 835ms/step\n",
            "Epoch 83/200\n",
            "1/1 - 1s - loss: 0.0375 - Accuracy: 0.9592 - 849ms/epoch - 849ms/step\n",
            "Epoch 84/200\n",
            "1/1 - 1s - loss: 0.0315 - Accuracy: 0.9694 - 836ms/epoch - 836ms/step\n",
            "Epoch 85/200\n",
            "1/1 - 1s - loss: 0.0351 - Accuracy: 0.9490 - 843ms/epoch - 843ms/step\n",
            "Epoch 86/200\n",
            "1/1 - 1s - loss: 0.0335 - Accuracy: 0.9643 - 841ms/epoch - 841ms/step\n",
            "Epoch 87/200\n",
            "1/1 - 1s - loss: 0.0311 - Accuracy: 0.9643 - 857ms/epoch - 857ms/step\n",
            "Epoch 88/200\n",
            "1/1 - 1s - loss: 0.0283 - Accuracy: 0.9745 - 833ms/epoch - 833ms/step\n",
            "Epoch 89/200\n",
            "1/1 - 1s - loss: 0.0305 - Accuracy: 0.9694 - 857ms/epoch - 857ms/step\n",
            "Epoch 90/200\n",
            "1/1 - 1s - loss: 0.0346 - Accuracy: 0.9592 - 844ms/epoch - 844ms/step\n",
            "Epoch 91/200\n",
            "1/1 - 1s - loss: 0.0263 - Accuracy: 0.9745 - 864ms/epoch - 864ms/step\n",
            "Epoch 92/200\n",
            "1/1 - 1s - loss: 0.0285 - Accuracy: 0.9745 - 832ms/epoch - 832ms/step\n",
            "Epoch 93/200\n",
            "1/1 - 1s - loss: 0.0396 - Accuracy: 0.9490 - 860ms/epoch - 860ms/step\n",
            "Epoch 94/200\n",
            "1/1 - 1s - loss: 0.0254 - Accuracy: 0.9796 - 842ms/epoch - 842ms/step\n",
            "Epoch 95/200\n",
            "1/1 - 1s - loss: 0.0261 - Accuracy: 0.9847 - 845ms/epoch - 845ms/step\n",
            "Epoch 96/200\n",
            "1/1 - 1s - loss: 0.0388 - Accuracy: 0.9541 - 841ms/epoch - 841ms/step\n",
            "Epoch 97/200\n",
            "1/1 - 1s - loss: 0.0226 - Accuracy: 0.9847 - 864ms/epoch - 864ms/step\n",
            "Epoch 98/200\n",
            "1/1 - 1s - loss: 0.0312 - Accuracy: 0.9694 - 844ms/epoch - 844ms/step\n",
            "Epoch 99/200\n",
            "1/1 - 1s - loss: 0.0763 - Accuracy: 0.8929 - 860ms/epoch - 860ms/step\n",
            "Epoch 100/200\n",
            "1/1 - 1s - loss: 0.0232 - Accuracy: 0.9847 - 858ms/epoch - 858ms/step\n",
            "Epoch 101/200\n",
            "1/1 - 1s - loss: 0.0627 - Accuracy: 0.8980 - 830ms/epoch - 830ms/step\n",
            "Epoch 102/200\n",
            "1/1 - 1s - loss: 0.1732 - Accuracy: 0.7908 - 837ms/epoch - 837ms/step\n",
            "Epoch 103/200\n",
            "1/1 - 1s - loss: 0.1355 - Accuracy: 0.8316 - 865ms/epoch - 865ms/step\n",
            "Epoch 104/200\n",
            "1/1 - 1s - loss: 0.0589 - Accuracy: 0.9133 - 844ms/epoch - 844ms/step\n",
            "Epoch 105/200\n",
            "1/1 - 1s - loss: 0.0392 - Accuracy: 0.9541 - 860ms/epoch - 860ms/step\n",
            "Epoch 106/200\n",
            "1/1 - 1s - loss: 0.0619 - Accuracy: 0.9184 - 835ms/epoch - 835ms/step\n",
            "Epoch 107/200\n",
            "1/1 - 1s - loss: 0.0723 - Accuracy: 0.9082 - 867ms/epoch - 867ms/step\n",
            "Epoch 108/200\n",
            "1/1 - 1s - loss: 0.0214 - Accuracy: 0.9745 - 836ms/epoch - 836ms/step\n",
            "Epoch 109/200\n",
            "1/1 - 1s - loss: 0.1193 - Accuracy: 0.8112 - 863ms/epoch - 863ms/step\n",
            "Epoch 110/200\n",
            "1/1 - 1s - loss: 0.0330 - Accuracy: 0.9541 - 846ms/epoch - 846ms/step\n",
            "Epoch 111/200\n",
            "1/1 - 1s - loss: 0.0946 - Accuracy: 0.8827 - 854ms/epoch - 854ms/step\n",
            "Epoch 112/200\n",
            "1/1 - 1s - loss: 0.0559 - Accuracy: 0.9235 - 839ms/epoch - 839ms/step\n",
            "Epoch 113/200\n",
            "1/1 - 1s - loss: 0.0289 - Accuracy: 0.9745 - 889ms/epoch - 889ms/step\n",
            "Epoch 114/200\n",
            "1/1 - 1s - loss: 0.0868 - Accuracy: 0.8827 - 841ms/epoch - 841ms/step\n",
            "Epoch 115/200\n",
            "1/1 - 1s - loss: 0.0273 - Accuracy: 0.9694 - 861ms/epoch - 861ms/step\n",
            "Epoch 116/200\n",
            "1/1 - 1s - loss: 0.0659 - Accuracy: 0.9184 - 822ms/epoch - 822ms/step\n",
            "Epoch 117/200\n",
            "1/1 - 1s - loss: 0.0561 - Accuracy: 0.9286 - 858ms/epoch - 858ms/step\n",
            "Epoch 118/200\n",
            "1/1 - 1s - loss: 0.0245 - Accuracy: 0.9694 - 850ms/epoch - 850ms/step\n",
            "Epoch 119/200\n",
            "1/1 - 1s - loss: 0.0644 - Accuracy: 0.9082 - 864ms/epoch - 864ms/step\n",
            "Epoch 120/200\n",
            "1/1 - 1s - loss: 0.0264 - Accuracy: 0.9745 - 835ms/epoch - 835ms/step\n",
            "Epoch 121/200\n",
            "1/1 - 1s - loss: 0.0338 - Accuracy: 0.9541 - 855ms/epoch - 855ms/step\n",
            "Epoch 122/200\n",
            "1/1 - 1s - loss: 0.0479 - Accuracy: 0.9388 - 845ms/epoch - 845ms/step\n",
            "Epoch 123/200\n",
            "1/1 - 1s - loss: 0.0314 - Accuracy: 0.9592 - 863ms/epoch - 863ms/step\n",
            "Epoch 124/200\n",
            "1/1 - 1s - loss: 0.0241 - Accuracy: 0.9745 - 842ms/epoch - 842ms/step\n",
            "Epoch 125/200\n",
            "1/1 - 1s - loss: 0.0440 - Accuracy: 0.9286 - 861ms/epoch - 861ms/step\n",
            "Epoch 126/200\n",
            "1/1 - 1s - loss: 0.0216 - Accuracy: 0.9796 - 858ms/epoch - 858ms/step\n",
            "Epoch 127/200\n",
            "1/1 - 1s - loss: 0.0312 - Accuracy: 0.9592 - 850ms/epoch - 850ms/step\n",
            "Epoch 128/200\n",
            "1/1 - 1s - loss: 0.0335 - Accuracy: 0.9490 - 834ms/epoch - 834ms/step\n",
            "Epoch 129/200\n",
            "1/1 - 1s - loss: 0.0221 - Accuracy: 0.9694 - 864ms/epoch - 864ms/step\n",
            "Epoch 130/200\n",
            "1/1 - 1s - loss: 0.0254 - Accuracy: 0.9745 - 843ms/epoch - 843ms/step\n",
            "Epoch 131/200\n",
            "1/1 - 1s - loss: 0.0270 - Accuracy: 0.9745 - 867ms/epoch - 867ms/step\n",
            "Epoch 132/200\n",
            "1/1 - 1s - loss: 0.0199 - Accuracy: 0.9796 - 844ms/epoch - 844ms/step\n",
            "Epoch 133/200\n",
            "1/1 - 1s - loss: 0.0258 - Accuracy: 0.9694 - 854ms/epoch - 854ms/step\n",
            "Epoch 134/200\n",
            "1/1 - 1s - loss: 0.0247 - Accuracy: 0.9694 - 840ms/epoch - 840ms/step\n",
            "Epoch 135/200\n",
            "1/1 - 1s - loss: 0.0187 - Accuracy: 0.9796 - 868ms/epoch - 868ms/step\n",
            "Epoch 136/200\n",
            "1/1 - 1s - loss: 0.0222 - Accuracy: 0.9796 - 834ms/epoch - 834ms/step\n",
            "Epoch 137/200\n",
            "1/1 - 1s - loss: 0.0204 - Accuracy: 0.9796 - 848ms/epoch - 848ms/step\n",
            "Epoch 138/200\n",
            "1/1 - 1s - loss: 0.0179 - Accuracy: 0.9796 - 853ms/epoch - 853ms/step\n",
            "Epoch 139/200\n",
            "1/1 - 1s - loss: 0.0208 - Accuracy: 0.9694 - 858ms/epoch - 858ms/step\n",
            "Epoch 140/200\n",
            "1/1 - 1s - loss: 0.0197 - Accuracy: 0.9745 - 846ms/epoch - 846ms/step\n",
            "Epoch 141/200\n",
            "1/1 - 1s - loss: 0.0166 - Accuracy: 0.9847 - 861ms/epoch - 861ms/step\n",
            "Epoch 142/200\n",
            "1/1 - 1s - loss: 0.0191 - Accuracy: 0.9847 - 829ms/epoch - 829ms/step\n",
            "Epoch 143/200\n",
            "1/1 - 1s - loss: 0.0169 - Accuracy: 0.9847 - 862ms/epoch - 862ms/step\n",
            "Epoch 144/200\n",
            "1/1 - 1s - loss: 0.0167 - Accuracy: 0.9847 - 822ms/epoch - 822ms/step\n",
            "Epoch 145/200\n",
            "1/1 - 1s - loss: 0.0170 - Accuracy: 0.9796 - 860ms/epoch - 860ms/step\n",
            "Epoch 146/200\n",
            "1/1 - 1s - loss: 0.0159 - Accuracy: 0.9847 - 834ms/epoch - 834ms/step\n",
            "Epoch 147/200\n",
            "1/1 - 1s - loss: 0.0150 - Accuracy: 0.9847 - 862ms/epoch - 862ms/step\n",
            "Epoch 148/200\n",
            "1/1 - 1s - loss: 0.0160 - Accuracy: 0.9847 - 834ms/epoch - 834ms/step\n",
            "Epoch 149/200\n",
            "1/1 - 1s - loss: 0.0145 - Accuracy: 0.9847 - 854ms/epoch - 854ms/step\n",
            "Epoch 150/200\n",
            "1/1 - 1s - loss: 0.0146 - Accuracy: 0.9847 - 817ms/epoch - 817ms/step\n",
            "Epoch 151/200\n",
            "1/1 - 1s - loss: 0.0147 - Accuracy: 0.9847 - 846ms/epoch - 846ms/step\n",
            "Epoch 152/200\n",
            "1/1 - 1s - loss: 0.0137 - Accuracy: 0.9847 - 829ms/epoch - 829ms/step\n",
            "Epoch 153/200\n",
            "1/1 - 1s - loss: 0.0137 - Accuracy: 0.9898 - 860ms/epoch - 860ms/step\n",
            "Epoch 154/200\n",
            "1/1 - 1s - loss: 0.0137 - Accuracy: 0.9898 - 824ms/epoch - 824ms/step\n",
            "Epoch 155/200\n",
            "1/1 - 1s - loss: 0.0129 - Accuracy: 0.9898 - 856ms/epoch - 856ms/step\n",
            "Epoch 156/200\n",
            "1/1 - 1s - loss: 0.0131 - Accuracy: 0.9847 - 806ms/epoch - 806ms/step\n",
            "Epoch 157/200\n",
            "1/1 - 1s - loss: 0.0129 - Accuracy: 0.9898 - 855ms/epoch - 855ms/step\n",
            "Epoch 158/200\n",
            "1/1 - 1s - loss: 0.0123 - Accuracy: 0.9898 - 841ms/epoch - 841ms/step\n",
            "Epoch 159/200\n",
            "1/1 - 1s - loss: 0.0124 - Accuracy: 0.9898 - 865ms/epoch - 865ms/step\n",
            "Epoch 160/200\n",
            "1/1 - 1s - loss: 0.0120 - Accuracy: 0.9898 - 839ms/epoch - 839ms/step\n",
            "Epoch 161/200\n",
            "1/1 - 1s - loss: 0.0121 - Accuracy: 0.9898 - 863ms/epoch - 863ms/step\n",
            "Epoch 162/200\n",
            "1/1 - 1s - loss: 0.0119 - Accuracy: 0.9898 - 825ms/epoch - 825ms/step\n",
            "Epoch 163/200\n",
            "1/1 - 1s - loss: 0.0116 - Accuracy: 0.9898 - 855ms/epoch - 855ms/step\n",
            "Epoch 164/200\n",
            "1/1 - 1s - loss: 0.0117 - Accuracy: 0.9898 - 843ms/epoch - 843ms/step\n",
            "Epoch 165/200\n",
            "1/1 - 1s - loss: 0.0113 - Accuracy: 0.9898 - 851ms/epoch - 851ms/step\n",
            "Epoch 166/200\n",
            "1/1 - 1s - loss: 0.0113 - Accuracy: 0.9898 - 838ms/epoch - 838ms/step\n",
            "Epoch 167/200\n",
            "1/1 - 1s - loss: 0.0113 - Accuracy: 0.9898 - 852ms/epoch - 852ms/step\n",
            "Epoch 168/200\n",
            "1/1 - 1s - loss: 0.0111 - Accuracy: 0.9898 - 846ms/epoch - 846ms/step\n",
            "Epoch 169/200\n",
            "1/1 - 1s - loss: 0.0111 - Accuracy: 0.9898 - 855ms/epoch - 855ms/step\n",
            "Epoch 170/200\n",
            "1/1 - 1s - loss: 0.0110 - Accuracy: 0.9898 - 849ms/epoch - 849ms/step\n",
            "Epoch 171/200\n",
            "1/1 - 1s - loss: 0.0108 - Accuracy: 0.9898 - 869ms/epoch - 869ms/step\n",
            "Epoch 172/200\n",
            "1/1 - 1s - loss: 0.0108 - Accuracy: 0.9898 - 841ms/epoch - 841ms/step\n",
            "Epoch 173/200\n",
            "1/1 - 1s - loss: 0.0107 - Accuracy: 0.9898 - 845ms/epoch - 845ms/step\n",
            "Epoch 174/200\n",
            "1/1 - 1s - loss: 0.0106 - Accuracy: 0.9898 - 847ms/epoch - 847ms/step\n",
            "Epoch 175/200\n",
            "1/1 - 1s - loss: 0.0106 - Accuracy: 0.9898 - 856ms/epoch - 856ms/step\n",
            "Epoch 176/200\n",
            "1/1 - 1s - loss: 0.0105 - Accuracy: 0.9898 - 837ms/epoch - 837ms/step\n",
            "Epoch 177/200\n",
            "1/1 - 1s - loss: 0.0104 - Accuracy: 0.9898 - 863ms/epoch - 863ms/step\n",
            "Epoch 178/200\n",
            "1/1 - 1s - loss: 0.0103 - Accuracy: 0.9898 - 823ms/epoch - 823ms/step\n",
            "Epoch 179/200\n",
            "1/1 - 1s - loss: 0.0102 - Accuracy: 0.9898 - 845ms/epoch - 845ms/step\n",
            "Epoch 180/200\n",
            "1/1 - 1s - loss: 0.0102 - Accuracy: 0.9898 - 858ms/epoch - 858ms/step\n",
            "Epoch 181/200\n",
            "1/1 - 1s - loss: 0.0101 - Accuracy: 0.9898 - 863ms/epoch - 863ms/step\n",
            "Epoch 182/200\n",
            "1/1 - 1s - loss: 0.0099 - Accuracy: 0.9898 - 849ms/epoch - 849ms/step\n",
            "Epoch 183/200\n",
            "1/1 - 1s - loss: 0.0099 - Accuracy: 0.9898 - 855ms/epoch - 855ms/step\n",
            "Epoch 184/200\n",
            "1/1 - 1s - loss: 0.0097 - Accuracy: 0.9898 - 840ms/epoch - 840ms/step\n",
            "Epoch 185/200\n",
            "1/1 - 1s - loss: 0.0095 - Accuracy: 0.9898 - 841ms/epoch - 841ms/step\n",
            "Epoch 186/200\n",
            "1/1 - 1s - loss: 0.0094 - Accuracy: 0.9898 - 850ms/epoch - 850ms/step\n",
            "Epoch 187/200\n",
            "1/1 - 1s - loss: 0.0091 - Accuracy: 0.9898 - 862ms/epoch - 862ms/step\n",
            "Epoch 188/200\n",
            "1/1 - 1s - loss: 0.0089 - Accuracy: 0.9898 - 834ms/epoch - 834ms/step\n",
            "Epoch 189/200\n",
            "1/1 - 1s - loss: 0.0086 - Accuracy: 0.9898 - 858ms/epoch - 858ms/step\n",
            "Epoch 190/200\n",
            "1/1 - 1s - loss: 0.0083 - Accuracy: 0.9898 - 841ms/epoch - 841ms/step\n",
            "Epoch 191/200\n",
            "1/1 - 1s - loss: 0.0080 - Accuracy: 0.9898 - 858ms/epoch - 858ms/step\n",
            "Epoch 192/200\n",
            "1/1 - 1s - loss: 0.0078 - Accuracy: 0.9949 - 851ms/epoch - 851ms/step\n",
            "Epoch 193/200\n",
            "1/1 - 1s - loss: 0.0075 - Accuracy: 0.9949 - 851ms/epoch - 851ms/step\n",
            "Epoch 194/200\n",
            "1/1 - 1s - loss: 0.0073 - Accuracy: 0.9949 - 838ms/epoch - 838ms/step\n",
            "Epoch 195/200\n",
            "1/1 - 1s - loss: 0.0071 - Accuracy: 0.9949 - 849ms/epoch - 849ms/step\n",
            "Epoch 196/200\n",
            "1/1 - 1s - loss: 0.0070 - Accuracy: 0.9949 - 837ms/epoch - 837ms/step\n",
            "Epoch 197/200\n",
            "1/1 - 1s - loss: 0.0068 - Accuracy: 0.9949 - 864ms/epoch - 864ms/step\n",
            "Epoch 198/200\n",
            "1/1 - 1s - loss: 0.0067 - Accuracy: 0.9949 - 839ms/epoch - 839ms/step\n",
            "Epoch 199/200\n",
            "1/1 - 1s - loss: 0.0066 - Accuracy: 0.9949 - 853ms/epoch - 853ms/step\n",
            "Epoch 200/200\n",
            "1/1 - 1s - loss: 0.0065 - Accuracy: 0.9949 - 775ms/epoch - 775ms/step\n"
          ]
        }
      ]
    },
    {
      "cell_type": "code",
      "source": [
        "model.save(drive_save_path + '/VGG16LSTM.h5')"
      ],
      "metadata": {
        "id": "LeBoaUSoof3z"
      },
      "execution_count": 39,
      "outputs": []
    },
    {
      "metadata": {
        "id": "8YG-bPW4BL6U"
      },
      "cell_type": "markdown",
      "source": [
        "## Print the model accuracy"
      ]
    },
    {
      "metadata": {
        "id": "zO6YSbxgBZ3f",
        "colab": {
          "base_uri": "https://localhost:8080/",
          "height": 573
        },
        "outputId": "b57c54a2-5851-47ad-81fa-52c8fb3459fa"
      },
      "cell_type": "code",
      "source": [
        "plt.plot(history.history['Accuracy'])\n",
        "plt.title('model Accuracy')\n",
        "plt.ylabel('accuracy')\n",
        "plt.xlabel('epoch')\n",
        "plt.legend(['train'], loc='upper left')\n",
        "plt.savefig('destination_path.svg', format='svg', dpi=1000)\n",
        "plt.show()\n",
        "# summarize history for loss\n",
        "plt.plot(history.history['loss'])\n",
        "plt.title('model loss')\n",
        "plt.ylabel('loss')\n",
        "plt.xlabel('epoch')\n",
        "plt.legend(['train'], loc='upper left')\n",
        "plt.savefig('destination_path1.svg', format='svg', dpi=1000)\n",
        "plt.show()"
      ],
      "execution_count": 40,
      "outputs": [
        {
          "output_type": "display_data",
          "data": {
            "image/png": "[encoded data removed]",
            "text/plain": [
              "<Figure size 432x288 with 1 Axes>"
            ]
          },
          "metadata": {
            "needs_background": "light"
          }
        },
        {
          "output_type": "display_data",
          "data": {
            "image/png": "[encoded data removed]",
            "text/plain": [
              "<Figure size 432x288 with 1 Axes>"
            ]
          },
          "metadata": {
            "needs_background": "light"
          }
        }
      ]
    },
    {
      "metadata": {
        "id": "BVJCgz3bA4A3"
      },
      "cell_type": "markdown",
      "source": [
        "## Test and evaluate the model"
      ]
    },
    {
      "metadata": {
        "id": "3MwCq0LpA59G"
      },
      "cell_type": "markdown",
      "source": [
        "I am going to test and evaluate the model with 20 % of the total videos. This videos have not been used to train the network. "
      ]
    },
    {
      "cell_type": "markdown",
      "source": [
        "### Test the model\n",
        "Plese note that the transfer values of the testing set are used, not the test videos, for convinience"
      ],
      "metadata": {
        "id": "xWV0BJ9yqv-B"
      }
    },
    {
      "cell_type": "code",
      "source": [
        "data_test, target_test = process_alldata_test()\n",
        "\n",
        "predicted_labels = []\n",
        "for i in range(len(data_test)):\n",
        "  data_test[i] = np.expand_dims(data_test[i], axis=0)\n",
        "  prediction = model.predict(data_test[i])[0]\n",
        "  if prediction[1] > 0.9:\n",
        "    predicted_labels.append([0.0, 1.0])\n",
        "  else:\n",
        "    predicted_labels.append([1.0, 0.0])\n",
        "\n",
        "data_test, target_test = process_alldata_test()"
      ],
      "metadata": {
        "id": "kOztQoAeUOx-"
      },
      "execution_count": 41,
      "outputs": []
    },
    {
      "cell_type": "markdown",
      "source": [
        "### Evaluate the model"
      ],
      "metadata": {
        "id": "o5eV3Nm-qZHJ"
      }
    },
    {
      "cell_type": "code",
      "source": [
        "target_test1 = np.argmax(target_test, axis=1) # 0 for violence and 1 for non-violence\n",
        "predicted_labels1 =np.argmax( predicted_labels, axis=1)\n",
        "print(classification_report(target_test1, predicted_labels1))"
      ],
      "metadata": {
        "colab": {
          "base_uri": "https://localhost:8080/"
        },
        "id": "NYkm63Qk39l9",
        "outputId": "48f770d3-aaa7-4dac-8b83-6fcc278e5f8f"
      },
      "execution_count": 42,
      "outputs": [
        {
          "output_type": "stream",
          "name": "stdout",
          "text": [
            "              precision    recall  f1-score   support\n",
            "\n",
            "           0       0.79      0.92      0.85        25\n",
            "           1       0.90      0.76      0.83        25\n",
            "\n",
            "    accuracy                           0.84        50\n",
            "   macro avg       0.85      0.84      0.84        50\n",
            "weighted avg       0.85      0.84      0.84        50\n",
            "\n"
          ]
        }
      ]
    }
  ]
}